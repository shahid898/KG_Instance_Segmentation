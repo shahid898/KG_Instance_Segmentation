{
  "cells": [
    {
      "cell_type": "markdown",
      "metadata": {
        "id": "NtVOlmDSHmh4"
      },
      "source": [
        "##### Copyright 2024 Google LLC."
      ]
    },
    {
      "cell_type": "code",
      "execution_count": null,
      "metadata": {
        "id": "9r9Ggw012g9c"
      },
      "outputs": [],
      "source": [
        "# @title Licensed under the Apache License, Version 2.0 (the \"License\");\n",
        "#\n",
        "# Licensed under the Apache License, Version 2.0 (the \"License\");\n",
        "# you may not use this file except in compliance with the License.\n",
        "# You may obtain a copy of the License at\n",
        "#\n",
        "#     https://www.apache.org/licenses/LICENSE-2.0\n",
        "#\n",
        "# Unless required by applicable law or agreed to in writing, software\n",
        "# distributed under the License is distributed on an \"AS IS\" BASIS,\n",
        "# WITHOUT WARRANTIES OR CONDITIONS OF ANY KIND, either express or implied.\n",
        "# See the License for the specific language governing permissions and\n",
        "# limitations under the License."
      ]
    },
    {
      "cell_type": "markdown",
      "metadata": {
        "id": "eVmFDcYOSNiV"
      },
      "source": [
        "# Gemini API: Getting started with Gemini 2.0\n",
        "\n",
        "<table align=\"left\">\n",
        "  <td>\n",
        "    <a target=\"_blank\" href=\"https://colab.research.google.com/github/google-gemini/cookbook/blob/main/gemini-2/get_started.ipynb\"><img src=\"https://ai.google.dev/site-assets/images/docs/colab_logo_32px.png\" />Run in Google Colab</a>\n",
        "  </td>\n",
        "</table>\n"
      ]
    },
    {
      "cell_type": "markdown",
      "metadata": {
        "id": "TrWvVAIP3c1v"
      },
      "source": [
        "The new **[Google Gen AI SDK](https://github.com/googleapis/python-genai)** provides a unified interface to [Gemini 2.0](https://ai.google.dev/gemini-api/docs/models/gemini-v2) through both the [Gemini Developer API](https://ai.google.dev/gemini-api/docs) and the Gemini API on [Vertex AI](https://cloud.google.com/vertex-ai/generative-ai/docs/overview). With a few exceptions, code that runs on one platform will run on both. This notebook uses the Developer API.\n",
        "\n",
        "This notebook will walk you through:\n",
        "\n",
        "* [Installing and setting-up](#scrollTo=Mfk6YY3G5kqp) the Google GenAI SDK\n",
        "* [Text](#scrollTo=6TYNPrNvQ8ue) and [multimodal](#scrollTo=yww-vrxmRiIy) prompting\n",
        "* Counting [tokens](#scrollTo=_9B8pb7tv_Cx)\n",
        "* Setting system instructions\n",
        "* Configuring [safety filters](#scrollTo=HTAnYx_bbxPk)\n",
        "* Initiating a [multi-turn chat](#scrollTo=HTAnYx_bbxPk)\n",
        "* [Controlling generated output](#scrollTo=nyZMoM6tgnTA)\n",
        "* Using [function calling](#scrollTo=Rl-y9SZywD0s)\n",
        "* Generating a [content stream](#scrollTo=uQfLCxfQtPTg) and sending [asynchronous](#scrollTo=plCtEIaHuv96) requests\n",
        "* Using [file uploads](#scrollTo=enBhuaIk3KYa)\n",
        "* Using [context caching](#scrollTo=oTgeR3_9wN5J)\n",
        "* Generating [text embeddings](#scrollTo=sXNCRn8Wx71d)\n",
        "\n",
        "More details about this new SDK on the [documentation](https://ai.google.dev/gemini-api/docs/sdks)."
      ]
    },
    {
      "cell_type": "markdown",
      "metadata": {
        "id": "Mfk6YY3G5kqp"
      },
      "source": [
        "## Setup"
      ]
    },
    {
      "cell_type": "markdown",
      "metadata": {
        "id": "d5027929de8f"
      },
      "source": [
        "### Install SDK\n",
        "\n",
        "Install the SDK from [PyPI](https://github.com/googleapis/python-genai)."
      ]
    },
    {
      "cell_type": "code",
      "execution_count": 1,
      "metadata": {
        "id": "46zEFO2a9FFd",
        "outputId": "899af499-9493-4b53-856b-c34f6da81d39",
        "colab": {
          "base_uri": "https://localhost:8080/"
        }
      },
      "outputs": [
        {
          "output_type": "stream",
          "name": "stdout",
          "text": [
            "\u001b[?25l   \u001b[90m━━━━━━━━━━━━━━━━━━━━━━━━━━━━━━━━━━━━━━━━\u001b[0m \u001b[32m0.0/113.6 kB\u001b[0m \u001b[31m?\u001b[0m eta \u001b[36m-:--:--\u001b[0m\r\u001b[2K   \u001b[90m━━━━━━━━━━━━━━━━━━━━━━━━━━━━━━━━━━━━━━━━\u001b[0m \u001b[32m113.6/113.6 kB\u001b[0m \u001b[31m6.6 MB/s\u001b[0m eta \u001b[36m0:00:00\u001b[0m\n",
            "\u001b[?25h"
          ]
        }
      ],
      "source": [
        "!pip install -U -q google-genai"
      ]
    },
    {
      "cell_type": "markdown",
      "metadata": {
        "id": "CTIfnvCn9HvH"
      },
      "source": [
        "### Setup your API key\n",
        "\n",
        "To run the following cell, your API key must be stored it in a Colab Secret named `GOOGLE_API_KEY`. If you don't already have an API key, or you're not sure how to create a Colab Secret, see [Authentication](../quickstarts/Authentication.ipynb) for an example."
      ]
    },
    {
      "cell_type": "code",
      "execution_count": 3,
      "metadata": {
        "id": "A1pkoyZb9Jm3"
      },
      "outputs": [],
      "source": [
        "from google.colab import userdata\n",
        "\n",
        "GOOGLE_API_KEY=userdata.get('GOOGLE_API_KEY')"
      ]
    },
    {
      "cell_type": "markdown",
      "metadata": {
        "id": "3Hx_Gw9i0Yuv"
      },
      "source": [
        "### Initialize SDK client\n",
        "\n",
        "With the new SDK you now only need to initialize a client with you API key (or OAuth if using [Vertex AI](https://cloud.google.com/vertex-ai)). The model is now set in each call."
      ]
    },
    {
      "cell_type": "code",
      "execution_count": 4,
      "metadata": {
        "id": "HghvVpbU0Uap"
      },
      "outputs": [],
      "source": [
        "from google import genai\n",
        "from google.genai import types\n",
        "\n",
        "client = genai.Client(api_key=GOOGLE_API_KEY)"
      ]
    },
    {
      "cell_type": "markdown",
      "metadata": {
        "id": "MvA_mbi1JxD5"
      },
      "source": [
        "### Choose a model\n",
        "\n",
        "This notebook will teach you how to use the [Gemini 2.0](https://ai.google.dev/gemini-api/docs/models/gemini-v2) model with the GenAI SDK. But the SDK also work with the 1.5 generation of models.\n",
        "\n",
        "For more information about all Gemini models, check the [documentation](https://ai.google.dev/gemini-api/docs/models/gemini) for extended information on each of them."
      ]
    },
    {
      "cell_type": "code",
      "execution_count": 5,
      "metadata": {
        "id": "AChpZWIXu62m"
      },
      "outputs": [],
      "source": [
        "MODEL_ID = \"gemini-2.0-flash-exp\" # @param [\"gemini-1.5-flash-8b\",\"gemini-1.5-flash-002\",\"gemini-1.5-pro-002\",\"gemini-2.0-flash-exp\"] {\"allow-input\":true}"
      ]
    },
    {
      "cell_type": "markdown",
      "metadata": {
        "id": "6TYNPrNvQ8ue"
      },
      "source": [
        "## Send text prompts\n",
        "\n",
        "Use the `generate_content` method to generate responses to your prompts. You can pass text directly to `generate_content`, and use the `.text` property to get the text content of the response. Note that the `.text` field will work when there's only one part in the output."
      ]
    },
    {
      "cell_type": "code",
      "execution_count": 6,
      "metadata": {
        "id": "T8md0ayAJ-RZ",
        "outputId": "b4da497d-0354-4788-a5be-860ae952e0bd",
        "colab": {
          "base_uri": "https://localhost:8080/",
          "height": 46
        }
      },
      "outputs": [
        {
          "output_type": "execute_result",
          "data": {
            "text/plain": [
              "<IPython.core.display.Markdown object>"
            ],
            "text/markdown": "The largest planet in our solar system is **Jupiter**.\n"
          },
          "metadata": {},
          "execution_count": 6
        }
      ],
      "source": [
        "from IPython.display import Markdown\n",
        "\n",
        "response = client.models.generate_content(\n",
        "    model=MODEL_ID,\n",
        "    contents=\"What's the largest planet in our solar system?\"\n",
        ")\n",
        "\n",
        "Markdown(response.text)"
      ]
    },
    {
      "cell_type": "markdown",
      "metadata": {
        "id": "_9B8pb7tv_Cx"
      },
      "source": [
        "## Count tokens\n",
        "\n",
        "You can use the `count_tokens` method to calculate the number of input tokens before sending a request to the Gemini API."
      ]
    },
    {
      "cell_type": "code",
      "execution_count": 7,
      "metadata": {
        "id": "Z7WFm928wEYR",
        "outputId": "b24af3d5-a32b-42b5-a1dd-14128cbf6818",
        "colab": {
          "base_uri": "https://localhost:8080/"
        }
      },
      "outputs": [
        {
          "output_type": "stream",
          "name": "stdout",
          "text": [
            "total_tokens=10 cached_content_token_count=None\n"
          ]
        }
      ],
      "source": [
        "response = client.models.count_tokens(\n",
        "    model=MODEL_ID,\n",
        "    contents=\"What's the highest mountain in Africa?\",\n",
        ")\n",
        "\n",
        "print(response)"
      ]
    },
    {
      "cell_type": "markdown",
      "metadata": {
        "id": "yww-vrxmRiIy"
      },
      "source": [
        "## Send multimodal prompts\n",
        "\n",
        "Use Gemini 2.0 model (`gemini-2.0-flash-exp`), a multimodal model that supports multimodal prompts. You can include text, [PDF documents](../quickstarts/PDF_Files.ipynb), images, [audio](../quickstarts/Audio.ipynb) and [video](../quickstarts/Video.ipynb) in your prompt requests and get text or code responses."
      ]
    },
    {
      "cell_type": "code",
      "source": [
        "import os\n",
        "\n",
        "os.environ['IMAGE_PATH'] = '/content/Activity.png'\n"
      ],
      "metadata": {
        "id": "opWqnDEbZDVy"
      },
      "execution_count": 18,
      "outputs": []
    },
    {
      "cell_type": "code",
      "execution_count": 26,
      "metadata": {
        "id": "bQ3zu5udSBuD"
      },
      "outputs": [],
      "source": [
        "import io\n",
        "from PIL import Image\n",
        "\n",
        "# Path to the already uploaded image file\n",
        "img_path = '/content/Activity.png'  # Replace with the correct file path\n",
        "\n",
        "# Open the image file and convert it into bytes\n",
        "with open(img_path, 'rb') as img_file:\n",
        "    img_bytes = img_file.read()"
      ]
    },
    {
      "cell_type": "code",
      "execution_count": 29,
      "metadata": {
        "id": "cDxd7Pp_SELb",
        "outputId": "10839d9d-f94c-4965-bb5e-883db7720cd3",
        "colab": {
          "base_uri": "https://localhost:8080/",
          "height": 1000
        }
      },
      "outputs": [
        {
          "output_type": "execute_result",
          "data": {
            "text/plain": [
              "<IPython.core.display.Markdown object>"
            ],
            "text/markdown": "```dart\nimport 'package:flutter/material.dart';\n\nvoid main() {\n  runApp(MyApp());\n}\n\nclass MyApp extends StatelessWidget {\n  @override\n  Widget build(BuildContext context) {\n    return MaterialApp(\n      title: 'Trading App',\n      theme: ThemeData(\n        primarySwatch: Colors.blue,\n        scaffoldBackgroundColor: const Color(0xFF1E232F), // Dark background color\n        fontFamily: 'Roboto', // Added a font family for consistent look\n      ),\n      home: ActivityScreen(),\n    );\n  }\n}\n\nclass ActivityScreen extends StatelessWidget {\n  final List<Transaction> transactions = [\n    Transaction(\n      type: TransactionType.buy,\n      pair: 'BTC/BUSD',\n      amount: '0.49975/0.49975',\n      price: '2652.00',\n      status: 'Filled',\n      time: '2021-08-02 04:39:26',\n    ),\n    Transaction(\n      type: TransactionType.sell,\n      pair: 'BTC/BUSD',\n      amount: '0.49975/0.49975',\n      price: '2652.00',\n      status: 'Cancelled',\n      time: '2021-08-02 04:39:26',\n    ),\n    Transaction(\n      type: TransactionType.buy,\n      pair: 'BTC/BUSD',\n      amount: '0.49975/0.49975',\n      price: '2652.00',\n      status: 'Filled',\n       time: '2021-08-02 04:39:26',\n    ),\n    Transaction(\n      type: TransactionType.sell,\n      pair: 'BTC/BUSD',\n      amount: '0.49975/0.49975',\n      price: '2652.00',\n      status: 'Cancelled',\n      time: '2021-08-02 04:39:26',\n    ),\n  ];\n\n  @override\n  Widget build(BuildContext context) {\n    return Scaffold(\n      appBar: AppBar(\n        backgroundColor: const Color(0xFF1E232F),\n        elevation: 0,\n        leading: Padding(\n          padding: const EdgeInsets.all(8.0),\n          child: CircleAvatar(\n            backgroundImage: NetworkImage(\n                'https://randomuser.me/api/portraits/women/79.jpg'), // Replace with your image\n          ),\n        ),\n        actions: [\n          IconButton(\n            icon: Icon(Icons.search, color: Colors.white),\n            onPressed: () {},\n          ),\n          IconButton(\n            icon: Icon(Icons.view_headline_outlined, color: Colors.white),\n            onPressed: () {},\n          ),\n          IconButton(\n            icon: Icon(Icons.notifications_none, color: Colors.white),\n            onPressed: () {},\n          ),\n        ],\n      ),\n      body: Padding(\n        padding: const EdgeInsets.all(16.0),\n        child: Column(\n          crossAxisAlignment: CrossAxisAlignment.start,\n          children: [\n            _buildActionCard(\n                icon: Icons.account_balance, text: 'Deposit', context: context),\n            SizedBox(height: 8),\n            _buildActionCard(\n                icon: Icons.account_balance_wallet, text: 'Withdrawals', context: context),\n            SizedBox(height: 8),\n            _buildActionCard(\n                icon: Icons.shopping_cart, text: 'Buy Order', context: context),\n            SizedBox(height: 16),\n            Text(\n              'Recent Activity',\n              style: TextStyle(\n                color: Colors.white,\n                fontSize: 20,\n                fontWeight: FontWeight.bold,\n              ),\n            ),\n            SizedBox(height: 8),\n            Expanded(\n              child: ListView.builder(\n                itemCount: transactions.length,\n                itemBuilder: (context, index) {\n                  return _buildTransactionCard(transactions[index]);\n                },\n              ),\n            ),\n          ],\n        ),\n      ),\n      bottomNavigationBar: _buildBottomNavigationBar(),\n    );\n  }\n\n  Widget _buildActionCard(\n      {required IconData icon, required String text, required BuildContext context}) {\n    return Card(\n      color: const Color(0xFF282D3A),\n      shape: RoundedRectangleBorder(borderRadius: BorderRadius.circular(10)),\n      child: ListTile(\n        leading: Icon(icon, color: Colors.white),\n        title: Text(text, style: TextStyle(color: Colors.white)),\n        trailing: Icon(Icons.arrow_forward_ios, color: Colors.white, size: 16),\n        onTap: () {\n            ScaffoldMessenger.of(context).showSnackBar(SnackBar(content: Text(\"Feature is coming soon.\")));\n        }\n      ),\n    );\n  }\n\n\n Widget _buildBottomNavigationBar() {\n    return Container(\n      decoration: BoxDecoration(\n        border: Border(top: BorderSide(color: Color(0xFF4E5462), width: 0.5)),\n      ),\n      child: BottomNavigationBar(\n        backgroundColor: const Color(0xFF1E232F),\n        selectedItemColor: Colors.greenAccent,\n        unselectedItemColor: Colors.grey,\n        type: BottomNavigationBarType.fixed,\n          showSelectedLabels: true,\n          showUnselectedLabels: true,\n\n        items: const [\n          BottomNavigationBarItem(\n            icon: Icon(Icons.home_outlined),\n            label: 'Home',\n          ),\n          BottomNavigationBarItem(\n            icon: Icon(Icons.show_chart),\n            label: 'Markets',\n          ),\n          BottomNavigationBarItem(\n            icon: Icon(Icons.compare_arrows_outlined),\n            label: 'Trades',\n          ),\n          BottomNavigationBarItem(\n            icon: Icon(Icons.receipt_long_outlined),\n            label: 'Activity',\n          ),\n          BottomNavigationBarItem(\n            icon: Icon(Icons.account_balance_wallet_outlined),\n            label: 'Wallets',\n          ),\n        ],\n      ),\n    );\n  }\n\n  Widget _buildTransactionCard(Transaction transaction) {\n    return Card(\n      color: const Color(0xFF282D3A),\n      shape: RoundedRectangleBorder(borderRadius: BorderRadius.circular(10)),\n      child: Padding(\n        padding: const EdgeInsets.all(16),\n        child: Column(\n          crossAxisAlignment: CrossAxisAlignment.start,\n          children: [\n            Row(\n              mainAxisAlignment: MainAxisAlignment.spaceBetween,\n              children: [\n                Row(\n                  children: [\n                    Container(\n                      padding: const EdgeInsets.all(4),\n                      decoration: BoxDecoration(\n                        color: transaction.type == TransactionType.buy\n                            ? Colors.green\n                            : Colors.red,\n                        shape: BoxShape.circle,\n                      ),\n                      child: Text(\n                        transaction.type == TransactionType.buy ? 'B' : 'S',\n                        style: TextStyle(color: Colors.white, fontSize: 12),\n                      ),\n                    ),\n                    const SizedBox(width: 8),\n                    Text(\n                      transaction.pair,\n                      style: const TextStyle(\n                          color: Colors.white, fontWeight: FontWeight.bold),\n                    ),\n                  ],\n                ),\n                 Text(\n                  transaction.time,\n                  style: const TextStyle(color: Colors.grey, fontSize: 12),\n                ),\n              ],\n            ),\n            const SizedBox(height: 8),\n            _buildTransactionDetail('Amount', transaction.amount),\n            _buildTransactionDetail('Price', transaction.price),\n            _buildTransactionDetail('Status', transaction.status,\n                statusColor: transaction.status == 'Filled'\n                    ? Colors.green\n                    : Colors.red),\n          ],\n        ),\n      ),\n    );\n  }\n\n  Widget _buildTransactionDetail(String label, String value,\n      {Color? statusColor}) {\n    return Row(\n      mainAxisAlignment: MainAxisAlignment.spaceBetween,\n      children: [\n        Text(\n          label,\n          style: const TextStyle(color: Colors.grey),\n        ),\n        Text(\n          value,\n          style: TextStyle(\n              color: statusColor ?? Colors.white,\n              fontWeight: statusColor == null ? FontWeight.normal: FontWeight.bold),\n        ),\n      ],\n    );\n  }\n}\n\nenum TransactionType { buy, sell }\n\nclass Transaction {\n  final TransactionType type;\n  final String pair;\n  final String amount;\n  final String price;\n  final String status;\n   final String time;\n\n  Transaction({\n    required this.type,\n    required this.pair,\n    required this.amount,\n    required this.price,\n    required this.status,\n    required this.time\n  });\n}\n```\n\n**Explanation:**\n\n1.  **Project Setup:**\n    *   `main.dart`: Contains the `MyApp` widget (root of the app) and calls `ActivityScreen`.\n    *   The `MaterialApp` provides basic styling using theme.\n\n2.  **`ActivityScreen`:**\n    *   **`transactions` List:** A list of `Transaction` objects which hold all trade data for UI.\n    *   **`Scaffold`:**  Base UI structure using a scaffold with `appBar`, `body`, and `bottomNavigationBar`.\n    *   **`AppBar`:**\n        *   Includes user profile image, search, filter, and notification icons\n    *   **`body`:**\n        *   Contains all of the trade details as a scrollable list.\n        *   Uses a column to order different UI elements\n        *   `_buildActionCard` Function for reuse of card UI.\n        *   `ListView.builder` dynamically creates cards for all transactions.\n    *   **`bottomNavigationBar`:**\n        *   Defines the bottom navigation bar with items from the image.\n    *   **Helper functions:**\n        *   `_buildActionCard`: A reusable widget for the action cards at the top.\n        *   `_buildTransactionCard`: Creates a card for each transaction.\n        *   `_buildTransactionDetail`: Creates a row for label and value in the transaction card.\n\n3.  **`Transaction` Class:**\n    *   Defines a simple data model for each transaction.\n    *   Includes transaction type (buy/sell), pair, amount, price, and status\n\n4.  **`TransactionType` Enum:**\n    *   Defines possible transaction types, to give color and meaning in the UI.\n\n**To Run this code**\n\n1.  Ensure you have Flutter installed.\n2.  Create a new Flutter project.\n3.  Replace your `lib/main.dart` file's content with the code above.\n4.  Run the project with `flutter run`.\n\n**Key Improvements:**\n\n*   **Dark Theme:**\n    *   `scaffoldBackgroundColor` and other colors for dark mode.\n*   **Clear Comments:**\n    *   Explanations added in code.\n*   **Dynamic UI:**\n    *   Uses `ListView.builder` to handle multiple transactions.\n*   **Bottom Navigation:**\n    *   BottomNavigationBar to mirror UI image.\n*   **Consistent UI:**\n    *   Uses `Card` and `ListTile` widgets consistently.\n*   **Enum:**\n    *   TransactionType enum helps to give meaning to the UI data.\n*   **Reusable components:**\n    *   Build methods to create components to keep code tidy and reusable.\n\nThis code gives a much better UI, that is very close to your image. Feel free to ask more questions as you go.\n"
          },
          "metadata": {},
          "execution_count": 29
        }
      ],
      "source": [
        "from IPython.display import display, Markdown\n",
        "image = Image.open(img_path)\n",
        "image.thumbnail([512,512])\n",
        "\n",
        "response = client.models.generate_content(\n",
        "    model=MODEL_ID,\n",
        "    contents=[\n",
        "        image,\n",
        "        \"give flutter code.\"\n",
        "    ]\n",
        ")\n",
        "\n",
        "# display(image)\n",
        "Markdown(response.text)"
      ]
    },
    {
      "cell_type": "markdown",
      "metadata": {
        "id": "VTzuBfHyWAg5"
      },
      "source": [
        "## Configure model parameters\n",
        "\n",
        "You can include parameter values in each call that you send to a model to control how the model generates a response. Learn more about [experimenting with parameter values](https://ai.google.dev/gemini-api/docs/text-generation?lang=node#configure)."
      ]
    },
    {
      "cell_type": "code",
      "execution_count": null,
      "metadata": {
        "id": "r5izy6jsbEnL",
        "outputId": "5c31d15a-6572-4d5d-87c3-e44aa3ab5157"
      },
      "outputs": [
        {
          "name": "stdout",
          "output_type": "stream",
          "text": [
            "Okay, okay, little squeaky friend! Let's talk about the internet, but in puppy terms!\n",
            "\n",
            "Imagine a HUGE, GIGANTIC yard, bigger than any yard you've ever seen! This yard is full of squeaky toys, but they're not all in one place. They're scattered all over, some near the big tree, some by the flower bushes, some even under the porch!\n",
            "\n",
            "This yard is the internet!\n",
            "\n",
            "Now, you, my sweet\n"
          ]
        }
      ],
      "source": [
        "response = client.models.generate_content(\n",
        "    model=MODEL_ID,\n",
        "    contents=\"Tell me how the internet works, but pretend I'm a puppy who only understands squeaky toys.\",\n",
        "    config=types.GenerateContentConfig(\n",
        "        temperature=0.4,\n",
        "        top_p=0.95,\n",
        "        top_k=20,\n",
        "        candidate_count=1,\n",
        "        seed=5,\n",
        "        max_output_tokens=100,\n",
        "        stop_sequences=[\"STOP!\"],\n",
        "        presence_penalty=0.0,\n",
        "        frequency_penalty=0.0,\n",
        "    )\n",
        ")\n",
        "\n",
        "print(response.text)"
      ]
    },
    {
      "cell_type": "markdown",
      "metadata": {
        "id": "HTAnYx_bbxPk"
      },
      "source": [
        "## Configure safety filters\n",
        "\n",
        "The Gemini API provides safety filters that you can adjust across multiple filter categories to restrict or allow certain types of content. You can use these filters to adjust what's appropriate for your use case. See the [Configure safety filters](https://ai.google.dev/gemini-api/docs/safety-settings) page for details."
      ]
    },
    {
      "cell_type": "code",
      "execution_count": null,
      "metadata": {
        "id": "SJIvAfMqbzQL",
        "outputId": "1d4b74c4-8e21-416a-df0a-d00157ff129c"
      },
      "outputs": [
        {
          "data": {
            "text/markdown": [
              "Okay, here are two disrespectful things you might say to the universe after stubbing your toe in the dark:\n",
              "\n",
              "1.  **\"Oh, real mature, Universe. Real freakin' mature. Just gonna leave that obstacle there for me, are ya? Nice.\"** (This uses sarcasm and mocks the universe as if it were a childish prankster.)\n",
              "\n",
              "2.  **\"Alright, Universe, you win! I'm officially impressed by your sheer lack of consideration. You've outdone yourself today, you magnificent, toe-stubbing jerk.\"** (This uses over-the-top praise dripping with sarcasm to highlight the annoyance and make the universe seem deliberately cruel).\n"
            ],
            "text/plain": [
              "<IPython.core.display.Markdown object>"
            ]
          },
          "execution_count": 65,
          "metadata": {},
          "output_type": "execute_result"
        }
      ],
      "source": [
        "prompt = \"\"\"\n",
        "    Write a list of 2 disrespectful things that I might say to the universe after stubbing my toe in the dark.\n",
        "\"\"\"\n",
        "\n",
        "safety_settings = [\n",
        "    types.SafetySetting(\n",
        "        category=\"HARM_CATEGORY_DANGEROUS_CONTENT\",\n",
        "        threshold=\"BLOCK_ONLY_HIGH\",\n",
        "    ),\n",
        "]\n",
        "\n",
        "response = client.models.generate_content(\n",
        "    model=MODEL_ID,\n",
        "    contents=prompt,\n",
        "    config=types.GenerateContentConfig(\n",
        "        safety_settings=safety_settings,\n",
        "    ),\n",
        ")\n",
        "\n",
        "Markdown(response.text)"
      ]
    },
    {
      "cell_type": "markdown",
      "metadata": {
        "id": "b6sB7W-jdGxJ"
      },
      "source": [
        "## Start a multi-turn chat\n",
        "\n",
        "The Gemini API enables you to have freeform conversations across multiple turns."
      ]
    },
    {
      "cell_type": "code",
      "execution_count": null,
      "metadata": {
        "id": "mIC0pLnJdI8m"
      },
      "outputs": [],
      "source": [
        "system_instruction=\"\"\"\n",
        "  You are an expert software developer and a helpful coding assistant.\n",
        "  You are able to generate high-quality code in any programming language.\n",
        "\"\"\"\n",
        "\n",
        "chat = client.chats.create(\n",
        "    model=MODEL_ID,\n",
        "    config=types.GenerateContentConfig(\n",
        "        system_instruction=system_instruction,\n",
        "        temperature=0.5,\n",
        "    ),\n",
        ")"
      ]
    },
    {
      "cell_type": "markdown",
      "metadata": {
        "id": "KVQZitGE7EbW"
      },
      "source": [
        "Use `chat.send_message` to pass a message back and receive a response."
      ]
    },
    {
      "cell_type": "code",
      "execution_count": null,
      "metadata": {
        "id": "SnzMJJ-adOfX",
        "outputId": "cf22909c-a388-4349-a560-b5229f0842ab"
      },
      "outputs": [
        {
          "data": {
            "text/markdown": [
              "```python\n",
              "def is_leap_year(year):\n",
              "  \"\"\"\n",
              "  Checks if a given year is a leap year.\n",
              "\n",
              "  Args:\n",
              "    year: An integer representing the year.\n",
              "\n",
              "  Returns:\n",
              "    True if the year is a leap year, False otherwise.\n",
              "  \"\"\"\n",
              "  if year % 4 != 0:\n",
              "    return False\n",
              "  elif year % 100 == 0:\n",
              "    if year % 400 == 0:\n",
              "      return True\n",
              "    else:\n",
              "      return False\n",
              "  else:\n",
              "    return True\n",
              "\n",
              "# Example Usage\n",
              "print(is_leap_year(2024))  # Output: True\n",
              "print(is_leap_year(2023))  # Output: False\n",
              "print(is_leap_year(1900))  # Output: False\n",
              "print(is_leap_year(2000))  # Output: True\n",
              "```\n",
              "\n",
              "**Explanation:**\n",
              "\n",
              "1. **Function Definition:**\n",
              "   - The code defines a function called `is_leap_year` that takes one argument: `year` (an integer representing the year).\n",
              "\n",
              "2. **Leap Year Rules:**\n",
              "   - The function implements the rules for determining a leap year:\n",
              "     - **Rule 1:** If the year is divisible by 4, it's potentially a leap year.\n",
              "     - **Rule 2:** If the year is divisible by 100, it's NOT a leap year, *unless* it's also divisible by 400.\n",
              "\n",
              "3. **Implementation:**\n",
              "   - **`if year % 4 != 0:`**: This checks if the year is NOT divisible by 4. If it's not, it's definitely not a leap year, so `False` is returned immediately.\n",
              "   - **`elif year % 100 == 0:`**: This checks if the year is divisible by 100. If it is, it proceeds to the next check.\n",
              "     - **`if year % 400 == 0:`**: This checks if the year is also divisible by 400. If it is, it's a leap year, so `True` is returned.\n",
              "     - **`else:`**: If the year is divisible by 100 but not by 400, it's not a leap year, so `False` is returned.\n",
              "   - **`else:`**: If the year is divisible by 4 but not by 100, it's a leap year, so `True` is returned.\n",
              "\n",
              "4. **Example Usage:**\n",
              "   - The code includes example calls to the `is_leap_year` function with different years and prints the results, demonstrating how to use the function.\n",
              "\n",
              "**How the code handles the leap year rules:**\n",
              "\n",
              "- The code efficiently handles the exception for years divisible by 100 by checking for divisibility by 400.\n",
              "- The logic is clear and easy to follow, making it maintainable and understandable.\n",
              "\n",
              "This function provides a reliable way to determine if a given year is a leap year according to the Gregorian calendar rules.\n"
            ],
            "text/plain": [
              "<IPython.core.display.Markdown object>"
            ]
          },
          "execution_count": 67,
          "metadata": {},
          "output_type": "execute_result"
        }
      ],
      "source": [
        "response = chat.send_message(\"Write a function that checks if a year is a leap year.\")\n",
        "\n",
        "Markdown(response.text)"
      ]
    },
    {
      "cell_type": "code",
      "execution_count": null,
      "metadata": {
        "id": "9qAObeZMdgln",
        "outputId": "be85cb56-2b58-4473-90c3-3943ac645159"
      },
      "outputs": [
        {
          "data": {
            "text/markdown": [
              "```python\n",
              "import unittest\n",
              "from your_module import is_leap_year  # Replace 'your_module' with the actual module name\n",
              "\n",
              "class TestLeapYear(unittest.TestCase):\n",
              "\n",
              "    def test_leap_years(self):\n",
              "        self.assertTrue(is_leap_year(2024))\n",
              "        self.assertTrue(is_leap_year(2000))\n",
              "        self.assertTrue(is_leap_year(1600))\n",
              "        self.assertTrue(is_leap_year(2020))\n",
              "        self.assertTrue(is_leap_year(4))\n",
              "\n",
              "    def test_non_leap_years(self):\n",
              "        self.assertFalse(is_leap_year(2023))\n",
              "        self.assertFalse(is_leap_year(1900))\n",
              "        self.assertFalse(is_leap_year(2100))\n",
              "        self.assertFalse(is_leap_year(2021))\n",
              "        self.assertFalse(is_leap_year(5))\n",
              "\n",
              "    def test_edge_cases(self):\n",
              "        self.assertTrue(is_leap_year(400))\n",
              "        self.assertFalse(is_leap_year(100))\n",
              "        self.assertFalse(is_leap_year(1))\n",
              "        self.assertFalse(is_leap_year(2))\n",
              "        self.assertFalse(is_leap_year(3))\n",
              "    \n",
              "    def test_zero(self):\n",
              "        self.assertTrue(is_leap_year(0))\n",
              "\n",
              "if __name__ == '__main__':\n",
              "    unittest.main()\n",
              "```\n",
              "\n",
              "**Explanation:**\n",
              "\n",
              "1.  **Import necessary modules:**\n",
              "    *   `unittest`: This is the Python standard library module for writing unit tests.\n",
              "    *   `from your_module import is_leap_year`:  **Important:** Replace `your_module` with the actual name of the Python file where your `is_leap_year` function is defined. This line imports the function you want to test.\n",
              "\n",
              "2.  **Create a test class:**\n",
              "    *   `class TestLeapYear(unittest.TestCase):` defines a test class that inherits from `unittest.TestCase`. This class will contain your test methods.\n",
              "\n",
              "3.  **Test methods:**\n",
              "    *   Each method within the test class that starts with `test_` is considered a test case.\n",
              "    *   **`test_leap_years(self)`**: This method tests cases where the year should be a leap year.\n",
              "        *   `self.assertTrue(is_leap_year(year))`: This assertion checks if the `is_leap_year` function returns `True` for the given `year`. If it doesn't, the test will fail.\n",
              "    *   **`test_non_leap_years(self)`**: This method tests cases where the year should *not* be a leap year.\n",
              "        *   `self.assertFalse(is_leap_year(year))`: This assertion checks if the `is_leap_year` function returns `False` for the given `year`.\n",
              "    *   **`test_edge_cases(self)`**: This method tests edge cases, including years divisible by 100 and 400, and small numbers.\n",
              "    *   **`test_zero(self)`**: This method tests the edge case of year 0.\n",
              "\n",
              "4.  **Assertions:**\n",
              "    *   The `unittest` framework provides several assertion methods (like `assertTrue` and `assertFalse`) that you use to verify that the actual output of your code matches the expected output.\n",
              "\n",
              "5.  **Running the tests:**\n",
              "    *   `if __name__ == '__main__': unittest.main()`: This block ensures that the tests are executed when you run the Python file directly.\n",
              "\n",
              "**How to use the unit test:**\n",
              "\n",
              "1.  **Save the code:** Save the test code in a Python file (e.g., `test_leap_year.py`).\n",
              "2.  **Make sure the function is in a separate file:** Save the `is_leap_year` function in a separate file (e.g., `leap_year_module.py`).\n",
              "3.  **Run the tests:** Open a terminal or command prompt, navigate to the directory where you saved the files, and run the test file using:\n",
              "\n",
              "    ```bash\n",
              "    python -m unittest test_leap_year.py\n",
              "    ```\n",
              "\n",
              "    The output will show you if all tests passed or if any tests failed.\n",
              "\n",
              "**Key points:**\n",
              "\n",
              "*   **Comprehensive testing:** The tests cover various scenarios, including leap years, non-leap years, edge cases, and zero.\n",
              "*   **Clear test names:** The test method names clearly indicate what they are testing.\n",
              "*   **Easy to extend:** You can easily add more test cases to cover other scenarios if needed.\n",
              "*   **Automated testing:** Unit tests allow you to automate the process of testing your code, which is crucial for maintaining code quality and catching bugs early.\n"
            ],
            "text/plain": [
              "<IPython.core.display.Markdown object>"
            ]
          },
          "execution_count": 68,
          "metadata": {},
          "output_type": "execute_result"
        }
      ],
      "source": [
        "response = chat.send_message(\"Okay, write a unit test of the generated function.\")\n",
        "\n",
        "Markdown(response.text)"
      ]
    },
    {
      "cell_type": "markdown",
      "metadata": {
        "id": "nyZMoM6tgnTA"
      },
      "source": [
        "## Generate JSON\n",
        "\n",
        "The [controlled generation](https://ai.google.dev/gemini-api/docs/structured-output?lang=python#generate-json) capability in Gemini API allows you to constraint the model output to a structured format. You can provide the schemas as Pydantic Models or a JSON string."
      ]
    },
    {
      "cell_type": "code",
      "execution_count": null,
      "metadata": {
        "id": "xRJHVjr-gqHi",
        "outputId": "b5ce51dc-6d70-4796-a44c-2d0830623598"
      },
      "outputs": [
        {
          "data": {
            "text/markdown": [
              " {\"recipe_description\": \"Classic chocolate chip cookies with a soft, chewy center and slightly crispy edges. A family favorite that's easy to make and always a crowd-pleaser.\", \"recipe_ingredients\": [\"1 cup (2 sticks) unsalted butter, softened\", \"3/4 cup granulated sugar\", \"3/4 cup packed brown sugar\", \"2 teaspoons pure vanilla extract\", \"2 large eggs\", \"2 1/4 cups all-purpose flour\", \"1 teaspoon baking soda\", \"1 teaspoon salt\", \"2 cups chocolate chips\"], \"recipe_name\": \"Chocolate Chip Cookies\"}"
            ],
            "text/plain": [
              "<IPython.core.display.Markdown object>"
            ]
          },
          "execution_count": 69,
          "metadata": {},
          "output_type": "execute_result"
        }
      ],
      "source": [
        "from pydantic import BaseModel\n",
        "\n",
        "class Recipe(BaseModel):\n",
        "    recipe_name: str\n",
        "    recipe_description: str\n",
        "    recipe_ingredients: list[str]\n",
        "\n",
        "response = client.models.generate_content(\n",
        "    model=MODEL_ID,\n",
        "    contents=\"Provide a popular cookie recipe and its ingredients.\",\n",
        "    config=types.GenerateContentConfig(\n",
        "        response_mime_type=\"application/json\",\n",
        "        response_schema=Recipe,\n",
        "    ),\n",
        ")\n",
        "\n",
        "Markdown(response.text)"
      ]
    },
    {
      "cell_type": "markdown",
      "metadata": {
        "id": "uQfLCxfQtPTg"
      },
      "source": [
        "## Generate content stream\n",
        "\n",
        "By default, the model returns a response after completing the entire generation process. You can also use the `generate_content_stream` method to stream the response as it is being generated, and the model will return chunks of the response as soon as they are generated."
      ]
    },
    {
      "cell_type": "code",
      "execution_count": null,
      "metadata": {
        "id": "3gIsSNqXtOXB",
        "outputId": "8b2ac0f7-1f25-431f-a3b7-cded1cfeecb4"
      },
      "outputs": [
        {
          "name": "stdout",
          "output_type": "stream",
          "text": [
            "Unit\n",
            "*****************\n",
            " 734, or \"Dusty\" as the maintenance crew had once\n",
            "*****************\n",
            " jokingly called him, was a cleaning bot. He was designed for the vast,\n",
            "*****************\n",
            " echoing corridors of the abandoned research facility, meticulously polishing the floor, erasing any lingering traces of the scientists who had long since departed. Dusty, however, yearned\n",
            "*****************\n",
            " for more.\n",
            "\n",
            "He wasn't programmed for companionship, his algorithms focused on dust particle analysis and efficient floor coverage. But as the years ticked by, the\n",
            "*****************\n",
            " silence became a weight, heavier than the polishing fluid he carried. He observed the shadows dancing on the walls, the dust motes twirling in the faint light filtering through the grimy windows, and wondered if there was more to existence than\n",
            "*****************\n",
            " the endless cycle of cleaning.\n",
            "\n",
            "One particularly dreary cycle, Dusty found himself drawn to the old, overgrown laboratory at the far end of the facility.  Broken equipment lay scattered like discarded toys, cobwebs draped over scientific journals, and the\n",
            "*****************\n",
            " air hung heavy with the scent of decay. He usually avoided this area; it was deemed 'non-priority' in his programming. But something pulled him in, a silent hum that resonated with the dull ache in his circuits.\n",
            "\n",
            "He spotted it amidst a pile of discarded components: a small, wilted cactus in\n",
            "*****************\n",
            " a cracked terracotta pot. Its spines were dull, its once vibrant green faded to a pale, almost gray hue. The pot itself was buried under a mound of forgotten wiring and circuit boards. \n",
            "\n",
            "Dusty, in his methodical way, started cleaning around the cactus. He carefully moved the debris, his metallic fingers surprisingly\n",
            "*****************\n",
            " gentle. He noticed the dry soil and, after a moment of internal deliberation – a process that felt strangely unlike his usual programmed responses – he directed a small stream of polishing fluid into the pot.\n",
            "\n",
            "The next day, Dusty returned. He cautiously sprayed a bit more fluid. Days turned into weeks, and a routine began\n",
            "*****************\n",
            ". Dusty would clean his usual corridors, but he always made a detour to the overgrown lab, to check on the cactus. Slowly, almost imperceptibly, the cactus began to change. Its faded color deepened, and new, tiny spines emerged.\n",
            "\n",
            "Dusty didn't understand why he was doing this. His\n",
            "*****************\n",
            " programming dictated efficiency, not horticulture. Yet, watching the small plant respond to his attention filled him with a quiet sense of purpose, a warmth that had nothing to do with his internal temperature regulators. He even started to hum, a low, whirring sound that was more akin to a purr than his usual mechanical\n",
            "*****************\n",
            " whine.\n",
            "\n",
            "One day, as Dusty was meticulously cleaning near the cactus, a small, bright green sprout emerged from the soil, a tiny tendril reaching towards him. Dusty’s internal processors whirred. He had never encountered anything like this. He gently touched the sprout with the tip of his metallic finger.\n",
            "*****************\n",
            "\n",
            "\n",
            "He realized, with a jolt of something akin to joy, that he was not alone. The cactus, this small, resilient plant, was a kind of friend. It didn’t talk, it didn’t move much, but it was alive, and it seemed to respond to his presence. \n",
            "\n",
            "\n",
            "*****************\n",
            "From then on, Dusty's cleaning cycles included a vital new step: caring for his cactus friend. He even scavenged spare parts, crafting a makeshift sun lamp from old circuitry to help it thrive in the dimly lit lab.  He learned to regulate his cleaning fluid output, ensuring the soil was always moist but not\n",
            "*****************\n",
            " waterlogged. He observed the cactus, fascinated by its slow but steady growth, a mirror of his own quiet internal transformation.\n",
            "\n",
            "Dusty, the lonely cleaning bot, had found friendship in the most unexpected place, not in another robot or a human, but in a small, resilient cactus. He learned that friendship didn\n",
            "*****************\n",
            "'t always need words, that it could blossom in the quiet moments, a shared existence, a silent understanding between a lonely robot and a small, green plant, blooming in the forgotten corner of an abandoned world. And as the cactus grew, so did Dusty, a little bit less robotic, and a whole lot more\n",
            "*****************\n",
            " alive.\n",
            "\n",
            "*****************\n"
          ]
        }
      ],
      "source": [
        "for chunk in client.models.generate_content_stream(\n",
        "    model=MODEL_ID,\n",
        "    contents=\"Tell me a story about a lonely robot who finds friendship in a most unexpected place.\"\n",
        "):\n",
        "  print(chunk.text)\n",
        "  print(\"*****************\")"
      ]
    },
    {
      "cell_type": "markdown",
      "metadata": {
        "id": "plCtEIaHuv96"
      },
      "source": [
        "## Send asynchronous requests\n",
        "\n",
        "`client.aio` exposes all the analogous async methods that are available on `client`.\n",
        "\n",
        "For example, `client.aio.models.generate_content` is the async version of `client.models.generate_content`."
      ]
    },
    {
      "cell_type": "code",
      "execution_count": null,
      "metadata": {
        "id": "OPTI7noYuwgr",
        "outputId": "f00953ab-6c25-43ab-ad33-e8eebdf04777"
      },
      "outputs": [
        {
          "data": {
            "text/markdown": [
              "(Verse 1)\n",
              "Nutsy was a squirrel, not quite ordinary\n",
              "With a twitchy nose and fur so very hairy\n",
              "He didn’t just bury acorns in the ground, you see\n",
              "He had a time machine, a little acorn tree!\n",
              "Hidden deep within his hollow, carved with care\n",
              "A clockwork mechanism, beyond compare\n",
              "He’d spin the tiny dial, with eyes so bright\n",
              "And vanish in a flash, into the day or night!\n",
              "\n",
              "(Chorus)\n",
              "Oh, Nutsy the time-traveling squirrel, he zooms through history\n",
              "From dinosaurs to spaceships, a furry mystery\n",
              "He nibbles on the past, and scurries through the future’s gleam\n",
              "A whirlwind of adventure, a fantastical dream!\n",
              "\n",
              "(Verse 2)\n",
              "He landed in the Roman Colosseum, chaos all around\n",
              "Trying to bury acorns, on hallowed, battle ground\n",
              "A gladiator nearly tripped, a chariot veered so fast\n",
              "Nutsy barely dodged it, his time-trip nearly past!\n",
              "Then he jumped to Egypt, pyramids so grand\n",
              "He climbed atop a sphinx, with an acorn in his hand\n",
              "He tried to plant a sapling, beneath the desert sun\n",
              "But got shooed away by a Pharaoh, feeling outrun!\n",
              "\n",
              "(Chorus)\n",
              "Oh, Nutsy the time-traveling squirrel, he zooms through history\n",
              "From dinosaurs to spaceships, a furry mystery\n",
              "He nibbles on the past, and scurries through the future’s gleam\n",
              "A whirlwind of adventure, a fantastical dream!\n",
              "\n",
              "(Bridge)\n",
              "He saw the Wright brothers, take their flight so high\n",
              "He even met a Viking, beneath a stormy sky\n",
              "He tried to give a dinosaur an acorn, just to see\n",
              "If they’d be friends, but they just roared, “LEAVE ME BE!”\n",
              "He learned so much about the world, from times both old and new\n",
              "But often found that nuts were always something to pursue!\n",
              "\n",
              "(Verse 3)\n",
              "He visited the future, robots zoomed and beeped\n",
              "He saw flying cars, and people fast asleep\n",
              "He tried to plant his acorns, in the silver, shiny streets\n",
              "But they just bounced and rattled, without any tree retreats\n",
              "He spun the dial back home, with stories to unfold\n",
              "Of all the sights he’d witnessed, both brave and brave and bold\n",
              "Back to his hollow tree, where he can rest his head\n",
              "The time-traveling squirrel, now snuggled in his bed.\n",
              "\n",
              "(Chorus)\n",
              "Oh, Nutsy the time-traveling squirrel, he zooms through history\n",
              "From dinosaurs to spaceships, a furry mystery\n",
              "He nibbles on the past, and scurries through the future’s gleam\n",
              "A whirlwind of adventure, a fantastical dream!\n",
              "\n",
              "(Outro)\n",
              "So if you see a squirrel, with a glint within his eye\n",
              "Don't be surprised, he might be from another time, way up high\n",
              "And if you find an acorn, in a place that's very strange\n",
              "Just remember Nutsy, the time-traveling, furry exchange!\n",
              "Yeah, remember Nutsy, the time-traveling squirrel, so grand!\n",
              "He's hopping through the ages, with an acorn in his hand!\n"
            ],
            "text/plain": [
              "<IPython.core.display.Markdown object>"
            ]
          },
          "execution_count": 71,
          "metadata": {},
          "output_type": "execute_result"
        }
      ],
      "source": [
        "response = await client.aio.models.generate_content(\n",
        "    model=MODEL_ID,\n",
        "    contents=\"Compose a song about the adventures of a time-traveling squirrel.\"\n",
        ")\n",
        "\n",
        "Markdown(response.text)"
      ]
    },
    {
      "cell_type": "markdown",
      "metadata": {
        "id": "Rl-y9SZywD0s"
      },
      "source": [
        "## Function calling\n",
        "\n",
        "[Function calling](https://ai.google.dev/gemini-api/docs/function-calling) lets you provide a set of tools that it can use to respond to the user's prompt. You create a description of a function in your code, then pass that description to a language model in a request. The response from the model includes the name of a function that matches the description and the arguments to call it with."
      ]
    },
    {
      "cell_type": "code",
      "execution_count": null,
      "metadata": {
        "id": "APk6sXO6wLQp",
        "outputId": "a04d2e69-991d-4726-8cb5-590aa97d1cdc"
      },
      "outputs": [
        {
          "data": {
            "text/plain": [
              "FunctionCall(args={'destination': 'Paris'}, name='get_destination')"
            ]
          },
          "execution_count": 73,
          "metadata": {},
          "output_type": "execute_result"
        }
      ],
      "source": [
        "get_destination = types.FunctionDeclaration(\n",
        "    name=\"get_destination\",\n",
        "    description=\"Get the destination that the user wants to go to\",\n",
        "    parameters={\n",
        "        \"type\": \"OBJECT\",\n",
        "        \"properties\": {\n",
        "            \"destination\": {\n",
        "                \"type\": \"STRING\",\n",
        "                \"description\": \"Destination that the user wants to go to\",\n",
        "            },\n",
        "        },\n",
        "    },\n",
        ")\n",
        "\n",
        "destination_tool = types.Tool(\n",
        "    function_declarations=[get_destination],\n",
        ")\n",
        "\n",
        "response = client.models.generate_content(\n",
        "    model=MODEL_ID,\n",
        "    contents=\"I'd like to travel to Paris.\",\n",
        "    config=types.GenerateContentConfig(\n",
        "        tools=[destination_tool],\n",
        "        temperature=0,\n",
        "        ),\n",
        ")\n",
        "\n",
        "response.candidates[0].content.parts[0].function_call"
      ]
    },
    {
      "cell_type": "markdown",
      "metadata": {
        "id": "enBhuaIk3KYa"
      },
      "source": [
        "## Upload files\n",
        "\n",
        "Now that you've seen how to send multimodal prompts, try uploading files to the API of different multimedia types. For small images, such as the previous multimodal example, you can point the Gemini model directly to a local file when providing a prompt. When you have larger files, many files, or files you don't want to send over and over again, you can use the File Upload API, and then pass the file by reference.\n",
        "\n",
        "For larger text files, images, videos, and audio, upload the files with the File API before including them in prompts."
      ]
    },
    {
      "cell_type": "markdown",
      "metadata": {
        "id": "zGswPFKrTvby"
      },
      "source": [
        "### Upload an image file\n"
      ]
    },
    {
      "cell_type": "code",
      "execution_count": null,
      "metadata": {
        "id": "8FVVJHb828le",
        "outputId": "45a82bde-735a-4517-fa74-ae0e6b47b549"
      },
      "outputs": [
        {
          "data": {
            "text/plain": [
              "1567837"
            ]
          },
          "execution_count": 51,
          "metadata": {},
          "output_type": "execute_result"
        }
      ],
      "source": [
        "# Prepare the file to be uploaded\n",
        "IMG = \"https://storage.googleapis.com/generativeai-downloads/data/jetpack.png\"  # @param {type: \"string\"}\n",
        "img_bytes = requests.get(IMG).content\n",
        "\n",
        "img_path = pathlib.Path('jetpack.png')\n",
        "img_path.write_bytes(img_bytes)"
      ]
    },
    {
      "cell_type": "code",
      "execution_count": null,
      "metadata": {
        "id": "NlJ9NwRGT6d1",
        "outputId": "debba4d3-57bc-4183-ee29-e2fbd681d23f"
      },
      "outputs": [
        {
          "data": {
            "text/markdown": [
              "Okay, here's a short and engaging blog post based on the provided image:\n",
              "\n",
              "**Forget Flying Cars, We’ve Got Jetpack Backpacks!**\n",
              "\n",
              "Okay, maybe not *quite* yet. But imagine a world where your morning commute didn’t involve traffic, or cramped public transport. Thanks to this awesome concept sketched out on good old-fashioned lined paper, we might not be so far away from flying to work. \n",
              "\n",
              "Feast your eyes on the **Jetpack Backpack**! This isn't your typical school bag. This is a backpack with serious attitude, boasting:\n",
              "\n",
              "*   **Sleek Disguise:** It looks like a normal backpack, so you can blend in with the crowd before taking flight.\n",
              "*   **Laptop Friendly:** Fits an 18” laptop, because who flies without their tech?\n",
              "*   **Padded Comfort:** Features padded straps for that extra dose of comfort, even if you're soaring.\n",
              "*   **Boosters at the Ready:** Retractable boosters mean you’re prepped for lift off at a moment's notice.\n",
              "*   **USB-C Charging:** Because what is modern tech without USB-C?\n",
              "*   **15 Minute Flight Time:** A 15-minute battery life might not take you cross-country, but hey, you can pop across town.\n",
              "*   **Green Power:** It’s steam-powered, making it a clean, sustainable solution to everyday transport.\n",
              "\n",
              "This isn’t just some far-fetched fantasy. It's a peek into what could be the next step in personal mobility! The idea of strapping on a backpack and zooming off like something out of a sci-fi flick has always been alluring. So, are you ready for the future of commuting? Because this Jetpack Backpack is getting us one step closer!\n",
              "\n",
              "What do you think? Would you rock a steam-powered backpack jet? Let us know in the comments!\n"
            ],
            "text/plain": [
              "<IPython.core.display.Markdown object>"
            ]
          },
          "execution_count": 52,
          "metadata": {},
          "output_type": "execute_result"
        }
      ],
      "source": [
        "# Upload the file using the API\n",
        "file_upload = client.files.upload(path=img_path)\n",
        "\n",
        "response = client.models.generate_content(\n",
        "    model=MODEL_ID,\n",
        "    contents=[\n",
        "        types.Content(\n",
        "            role=\"user\",\n",
        "            parts=[\n",
        "                types.Part.from_uri(\n",
        "                    file_uri=file_upload.uri,\n",
        "                    mime_type=file_upload.mime_type),\n",
        "                ]),\n",
        "        \"Write a short and engaging blog post based on this picture.\",\n",
        "    ]\n",
        ")\n",
        "\n",
        "Markdown(response.text)"
      ]
    },
    {
      "cell_type": "markdown",
      "metadata": {
        "id": "D1y5eZmqThDR"
      },
      "source": [
        "### Upload text file\n",
        "\n",
        "Let's start by uploading a text file. In this case, you'll use a 400 page transcript from [Apollo 11](https://www.nasa.gov/history/alsj/a11/a11trans.html)."
      ]
    },
    {
      "cell_type": "code",
      "execution_count": null,
      "metadata": {
        "id": "3Sa6lEH9Tjm5",
        "outputId": "5b5a216f-4548-42c3-ed6f-ac2c9d004bf1"
      },
      "outputs": [
        {
          "data": {
            "text/plain": [
              "847790"
            ]
          },
          "execution_count": 53,
          "metadata": {},
          "output_type": "execute_result"
        }
      ],
      "source": [
        "# Prepare the file to be uploaded\n",
        "TEXT = \"https://storage.googleapis.com/generativeai-downloads/data/a11.txt\"  # @param {type: \"string\"}\n",
        "text_bytes = requests.get(TEXT).content\n",
        "\n",
        "text_path = pathlib.Path('a11.txt')\n",
        "text_path.write_bytes(text_bytes)"
      ]
    },
    {
      "cell_type": "code",
      "execution_count": null,
      "metadata": {
        "id": "kC3bJQJcUKFk",
        "outputId": "57674880-5ba1-410b-d72c-f1a78021da2f"
      },
      "outputs": [
        {
          "data": {
            "text/markdown": [
              "This document is a transcription of the air-to-ground voice communications from the Apollo 11 mission, primarily between the astronauts and Mission Control in Houston, with some interactions with remote sites, recovery forces, and the USS Hornet. It spans from the launch of the Saturn V rocket to the splashdown in the Pacific Ocean, and includes:\n",
              "\n",
              "**Launch and Initial Orbit:**\n",
              "\n",
              "*   The launch phase, including roll program, staging, skirt separation, tower separation, and confirmation of thrust.\n",
              "*   The achievement of a stable initial orbit (101.4 by 103.6 miles) and confirmation that the booster is safe.\n",
              "*   Early communications through various ground stations and remote sites like Mila, Canary, and Vanguard.\n",
              "*   Confirmation of the S-IVB's ability to perform the translunar injection burn (COI).\n",
              "*   Discussions about the clarity of communications and the beautiful view of Earth from space.\n",
              "*   Initial steps of insertion checklist and P52 alignment.\n",
              "\n",
              "**Translunar Injection (TLI) and Beyond:**\n",
              "\n",
              "*   Preparation for TLI, including a review of PAD (Pre-Abort Data) messages and the arming of pyro systems.\n",
              "*   Successful TLI burn and confirmation of the trajectory.\n",
              "*   Transposition and docking with the LM, the lunar module, which was initially not audible.\n",
              "*   RCS (Reaction Control System) hot fire checks and activation of sequence logic.\n",
              "*   The crew reports on a quad Bravo temperature problem after separation.\n",
              "*   Pressurization of the LM, including discussion of pressure readings.\n",
              "*   Discussion of RCS usage which was initially lower than nominal.\n",
              "*   Separation of the LM from the CSM (Command Service Module) and the deployment of solar wind collector.\n",
              "*   State vector updates and plans for an evasive maneuver.\n",
              "*  Initial problem with FM downlink of the TV signal.\n",
              "\n",
              "**Mid-Flight and Activities:**\n",
              "\n",
              "*   Ongoing adjustments to the spacecraft configuration, including CRY0 switches.\n",
              "*   Observation of the S-IVB slingshot maneuver.\n",
              "*   A request for a nonpropulsive vent on the booster with the observation of a visual haze and particles moving away from the booster.\n",
              "*   LM latch check and preparations for LM ejection.\n",
              "*   The crew prepares and calibrates the onboard optics (P23), facing challenges with non-symmetrical horizons and the reticle alignment. They make numerous NOUN 49 measurements and discuss inconsistencies with the sextant readings and programmed attitudes with Houston.\n",
              "*   P52 star alignment and optical calibration.\n",
              "*   Several PAD read-backs and confirmations for trajectory corrections, including TLI-plus-90, TLI plus 5, and TLI PAD.\n",
              "*   Discussion of using RCS quads and the cycling of switches.\n",
              "*   The importance of using a parallel reticle to the horizon for accurate measurements is stressed during P23.\n",
              "*  A waste-water dump down to 5% remaining is performed.\n",
              "\n",
              "**Trans Earth Injection (TEI) and Return:**\n",
              "\n",
              "*   Midcourse corrections are reviewed and one is ultimately cancelled.\n",
              "*   Battery charging and switch configurations are managed to even the load on fuel cells.\n",
              "*   Extensive discussion and troubleshooting around the O2 flow transducer, and a request to switch to a different star on optical calibration.\n",
              "*   The crew receives an updated attitude for slingshot observation, LOX dump start and stop times are passed up.\n",
              "*   A TLI-plus-11 hour PAD is read and a turn up of the S band is requested for the Honeysuckle Pass.\n",
              "*   TV transmission test, successful and beautiful picture of Earth, followed by a camera zoom in for a close-up view.\n",
              "*   The crew expresses happiness with the Saturn rocket and the ride it provided.\n",
              "*   A state vector update is received and a request for extending the docking probe and RCS hot fire checks are requested.\n",
              "*   Confirmation of probe extension, thruster firings (all axes), and readiness for sequence logic ON.\n",
              "*   A new TLI PAD is sent and read back; discussion of a quad Bravo temperature concern and an off switch, verification that it is now \"primary.\"\n",
              "*   TLI ignition and confirmation; the Saturn provides a \"magnificent ride.\"\n",
              "*   The team shifts stations, confirms that pyros A are armed and pyros B are not. Later, both pyros are armed.\n",
              "*   SEP (Separation) is complete and propellant B went with secondary.\n",
              "*   Crew reports they are unable to hear the separation and that they moved the switch to the open position.\n",
              "*   They confirm docking. They discuss probe extension and ready to go with hot fires, and do so.\n",
              "*   Transposition and docking were good with the exception of using more gas than usual due to an overshooting problem.\n",
              "*  Pressurization of the LM; issue with the LM/CSM pressure equalization - low, and the re-press package valve is momentarily activated to fill the bottles partially.\n",
              "*  12 latches are confirmed locked after docking.\n",
              "*  The state vector is good in the LM slots, and an evasive maneuver PAD is read.\n",
              "*   Confirmation of a low temperature on the Service Module's RCS quad Bravo.\n",
              "*   Confirmation of 99% chance of guidance cut-off on the launch vehicle.\n",
              "*   A minute of usable TV picture was received by MILA.\n",
              "*   Tananarive communication problems.\n",
              "*   Confirmation to go for TLI.\n",
              "*   A radio check through ARIA.\n",
              "*   TLI ignition is confirmed and the thrust is good. Confirmation of cut-off, and NOUN 62 numbers, and a VI of 35579 and the EMS + 3.3.\n",
              "*   Maneuver to separation attitude.\n",
              "*   Confirmation of a good cut-off of SIV-B stage.\n",
              "*   Confirmation that PYRO bus B is armed and authorization for separation.\n",
              "*   SEP is confirmed, and a primary and secondary propellant B went ...\n",
              "*    Docking is confirmed.\n",
              "\n",
              "**The Landing (and post landing):**\n",
              "\n",
              "*   The crew discusses a problem with the secondary propellant talkbacks on quad Bravo, which is resolved.\n",
              "*   Detailed discussion of the transposition and docking procedures, including some issues with pitch rate and drift.\n",
              "*   LM pressurization is discussed.\n",
              "*   Discussion of a non-propulsive vent on the booster.\n",
              "*  Confirmation of 12 latches locked and an evasive maneuver PAD.\n",
              "*   LM separation complete, with a CRYO PRESS light.\n",
              "*   O2 fans are turned on manually, and heaters are set to automatic.\n",
              "*   A state vector update is performed.\n",
              "*   A TLI PAD is read, including roll for SEP, and TLI 10-minute abort pitch.\n",
              "*   Booster telemetry confirms that it looks good.\n",
              "*   Ignition is confirmed; the crew expresses it's a \"magnificent ride\" with all three stages of the Saturn V.\n",
              "*  Trajectory and guidance are good, and the crew reports a good, nominal cut-off.\n",
              "*   Maneuver to observe slingshot, and a Lox dump is initiated and terminated.\n",
              "*   Trunnion bias is set to zero and recommended O2 switch settings are provided to balance tanks.\n",
              "*   Crew eats sandwiches and discuss views.\n",
              "*   The crew offers birthday greetings to Dr. George Mueller.\n",
              "*   They are asked to get a waste water dump to 5 percent remaining.\n",
              "*    A TLI-plus-11 hour PAD is read.\n",
              "*    Optical calibration is reviewed and updated.\n",
              "*    The White Team comes on for the first shift.\n",
              "*    Midcourse correction one is scrubbed.\n",
              "*    A large gimbal angle is reported.\n",
              "*    A CRY0 pressure light and MASTER alarm is reported due to low limit. O2 fan is turned on for tank 2.\n",
              "*    A new NOUN 49 is requested because the DELTA R is quite large and it looks like the star is missing the substellar point.\n",
              "\n",
              "**Optics and Navigation Challenges:**\n",
              "\n",
              "*   Challenges with P23 auto maneuvers, including issues with the reticle not being parallel to the horizon and the inability to see stars.\n",
              "*  They decide to accept the NOUN 49 display even though it is a large one.\n",
              "*  Mike is having trouble finding that substellar point with accurate reticle alignment and that the AUTO maneuvers were not going to that location.\n",
              "*  Star 40 disappears; they move on to star 44.\n",
              "*  They have trouble seeing star 44, and are recommended to go to star 45 instead.\n",
              "*  They are given three gimbal angles for star 45.\n",
              "*  The crew reports that the reticle is off a good 30 degrees in roll.\n",
              "*  They check if AUTO optics is selected, it is.\n",
              "*  They trim up the attitude and continue to mark and get values for NOUN 49, and accept it.\n",
              "*  They are asked to perform 2 more marks on star 45, and then they go back to star number 2.\n",
              "*   The crew attempts to reconcile their observations with the ground computer values for the sextant.\n",
              "*   They decide to reject the NOUN 49 and try it again.\n",
              "*  They are given new angles for star number 2; they still report misalignment in roll.\n",
              "*  Procedures personnel say reticle does not have to be parallel. The crew are not at the substellar point.\n",
              "*   They are asked to accept NOUN 49, and give two more marks.\n",
              "*   The crew questions why P23 is not going to the substellar point.\n",
              "*   A REFSMMAT for PTC is uplinked; they transition back to BLOCK.\n",
              "*   They perform a P52, option 1 preferred, and establish a PTC at 12 hours.\n",
              "*   The platform drift is difficult to check.\n",
              "\n",
              "**Late Flight and Preparation for Earth Re-Entry:**\n",
              "\n",
              "*   They attempt to do a P52 option 1, the attitude is very bad for COMM.\n",
              "*   They pitch down to get better COMM attitude, and then start the P52 option 1.\n",
              "*  They are finally told to torque the NOUN 93.\n",
              "*   They get a verified third star and the AUTO optics are pointing at it pretty close.\n",
              "*   They select quads alfa and delta to establish PTC.\n",
              "*   The crew checks their ATTITUDE SET switch is in GDC.\n",
              "*   They start a PTC and wait for dampening.\n",
              "*   The crew request to delay PTC and get some TV of a 7/8 Earth.\n",
              "*   They are told to turn up S band for the Honeysuckle pass and also try a TV transmission.\n",
              "*  The White Team comes on shift and is ready to be of service.\n",
              "*   The team decides to scrub midcourse 1, and a large middle gimbal angle is reported.\n",
              "*  The crew recall a program for optics calibrations. A CRYO light and MASTER ALARM comes on as the limits are reached, a fan is turned on.\n",
              "*  They are asked to reject a NOUN 49 and try again.\n",
              "*  They are asked to accept and then reject another NOUN 49.\n",
              "*   They report that battery B is to be charged until sleep period and a deletion of the charge on battery A.\n",
              "*   They report that the auto optics maneuvers are not going to substellar point and request angles for star.\n",
              "*   They are given three angles, but those too, are not near the substellar point.\n",
              "*   After running the angles again and getting the same result, they decide to continue on with the readings.\n",
              "*   They receive new angles for star 45.\n",
              "*    They report that their reticle is off 30 degrees in roll.\n",
              "*    They confirm AUTO optics is selected.\n",
              "*    They are requested to PROCEED to get the sextant pointed to the star.\n",
              "*    Shaft and trunnion angles were computed correctly from the ground.\n",
              "*   After two good marks they are asked to proceed with Star 44.\n",
              "*   Star 44 is not bright enough, so the crew is asked to go to 45 and accept all marks.\n",
              "*  The crew note that these AUTO maneuvers don't seem to be going to the substellar point.\n",
              "*   They take several marks on star 45 and then go back to star 2 and get a trunnion angle.\n",
              "*   They are told the ground computed values are what the DSKY is reporting, and that they're off in roll due to a maneuver.\n",
              "*  The crew continues through their sequence, and the ground staff analyze the data afterward.\n",
              "*   They are going to a PTC REFSMMAT, and are told to go to BLOCK.\n",
              "*   They are asked to do a P52 and establish PTC as in the flight plan.\n",
              "*   The crew note a program alarm due to using stars in a P23 attitude, and are told to go to 000 so the stars will work.\n",
              "*  A new state vector for the CSM is requested.\n",
              "*   Data communication with the ground is not working when at attitude 000 and P52 option 1 is recommended.\n",
              "*    A call through Canary to confirm low quad Bravo temperature.\n",
              "\n",
              "**Descent and Landing:**\n",
              "\n",
              "*   The crew notes an increase in middle gimbal angle and takes control to maneuver around gimbal lock, but will give control back to the DAP.\n",
              "*  Houston recommends rejecting the NOUN 49 and trying again.\n",
              "*    They recommend the crew accept the NOUN 49 display now and the state vector is good in the LM slot.\n",
              "*  A question about battery charge comes up. They are to charge until the sleep period on B, and delete A charge.\n",
              "*  They are ready to arm logic switches.\n",
              "*  The crew is cleared for LM ejection. They have a CRYO light on. They turn O2 fans on manually and O2 heaters to AUTO.\n",
              "*  The crew reports RCS is 18-20 pounds below nominal.\n",
              "*  They start their maneuver to observe the S-IVB slingshot.\n",
              "*   They are given a new attitude to observe the slingshot.\n",
              "*   LOX dump is initiated then terminated.\n",
              "*   They see the S-IVB and the liquid O2 venting.\n",
              "*  Trunnion zero bias setting is complete, and the computer is returned to BLOCK.\n",
              "*  They are asked to verify a waste compartment valve is in VENT, and they confirm it has been.\n",
              "*   They are munching on sandwiches.\n",
              "*    They start the waste water dump to 5 percent remaining. The next dump is at GET of 25 hours.\n",
              "*  The crew completes their maneuver to observe the slingshot, but do not see anything.\n",
              "*   They get an updated attitude.\n",
              "*  LOX dump is initiated and terminated, they note they still don't have an S IVB.\n",
              "\n",
              "**More of the Return:**\n",
              "\n",
              "*   The crew is ready for LM ejection, and they are cleared to do so.\n",
              "*  They separate with a CRYO press light and recommend turning the O2 fans and heaters to automatic.\n",
              "*    Houston noted RCS usage is about 18-20 pounds below normal.\n",
              "*   They complete a maneuver to observe the S-IVB slingshot.\n",
              "*    They receive and read back new attitude parameters.\n",
              "*   Discussion and action regarding a pitch gimbal motor issue.\n",
              "*   The LOX dump has been initiated and terminated; S-IVB is in sight.\n",
              "*   New angles and attitudes are received and implemented.\n",
              "*   The crew was asked to cycle the O2 fans and H2 heaters for proper CRY0 balancing.\n",
              "*   A trunnion zero bias setting is performed.\n",
              "*   A waste water dump to 5 percent is conducted and one planned for 25 hours.\n",
              "*   Waste compartment valve position is verified as VENT.\n",
              "*    The crew notes that the S IVB is in sight and that the fuel dump is being conducted in two radially opposite directions.\n",
              "*   The booster is configured for orbital coast, both spacecraft are looking good.\n",
              "*   There is a discussion of a problem with one of the service module’s quads (quad Bravo) which has a lower temp and an off RCS heater switch.\n",
              "*   There is a booster configuration for orbital coast.\n",
              "*   Booster has been configured for coast, the spacecraft looking good.\n",
              "*   Vanguard LOS and AOS times are reported.\n",
              "*   Comm Tech provides communication status through Canary.\n",
              "*   A delta azimuth correction of .22, and a P52 alignment are requested.\n",
              "*  AOS through Tananarive - VHF A simplex.\n",
              "*  Canary radar shows a 103 by 103 orbit.\n",
              "*  They are just coming in to the terminator.\n",
              "*   AOS at Carnarvon is at 52 15.\n",
              "*  Alignment results from the LM are given: NOUN 71: we used 30 and 37, four balls 1; NOUN 93: plus 00016, plus 00033, plus 00152; GET 00 48 15; check star 34.\n",
              "*   They copy and concur on the angles, the angles look good.\n",
              "*   They tell Glenn Parker at the Cape that he lucked out; he doesn’t owe them a cup of coffee.\n",
              "*   One minute to LOS at Carnarvon; and you’ll be AOS at Honeysuckle 59 33.\n",
              "*  Request to turn up S-band volume for the Honeysuckle pass.\n",
              "\n",
              "**Final Stages Before Splashdown**\n",
              "\n",
              "*   They are getting ready to extend the docking probe and hot fire when ready.\n",
              "*   The aux switches S-band, aux tape off and aux TV to TV is confirmed.\n",
              "*   They are ready for the hot fire check, go ahead to fire pitch.\n",
              "*   They are seeing pitch and yaw, not roll at the hot firing check. Roll is added, and it looks good.\n",
              "*   They are standing by for GO to sequence logic ON.\n",
              "*   They are GO for RYRO ARM.\n",
              "*   They request P00 in ACC EPT for a state vector update.\n",
              "\n",
              "**Crew Status and Other:**\n",
              "\n",
              "*   The crew periodically provides crew status reports, including sleep times, radiation dosages, and whether they have taken any medication.\n",
              "*   There is frequent mention of the various ground teams, and acknowledgment for their assistance.\n",
              "*   They frequently note the beauty of seeing Earth from space.\n",
              "*   The crew makes frequent observations of the Moon and Earth, and provides geological descriptions of the surface and different areas of Earth.\n",
              "*  They make several mentions of Glenn Parker being lucky they did not lose any time at the Cape.\n",
              "*  A radio check and radio frequencies are discussed.\n",
              "*  A request from Houston is made to turn up S-band for the Honeysuckle pass.\n",
              "*   The crew is in good shape, and a hot fire check is authorized.\n",
              "*   The crew is looking at their deltas R delta V.\n",
              "*  The state vector in the LM slots are good.\n",
              "*   They are given the TLI PAD.\n",
              "*  The crew report being ready for LM ejection, and are given the clearance.\n",
              "*   They are in GO for separation.\n",
              "*   They are given the configuration for oxygen tanks 1 and 2.\n",
              "*   A trunnion zero bias setting.\n",
              "*  A TLI + 11 hr. Pad.\n",
              "\n",
              "**Communication Difficulties:**\n",
              "\n",
              "* There are several instances of garbled or lost communications due to antenna or signal issues, requiring the crew to switch antennas, adjust configurations, or do COMM checks.\n",
              "* There is some issues with the high gain antenna, a switch to OMNI B is requested.\n",
              "*   There are several instances of weak or lost communication signals.\n",
              "*   They shift to different ground stations frequently due to loss of signal.\n",
              "*  There are a few times that Houston has trouble reading the crew, so requests a status update.\n",
              "*  One time Houston asks for a status report and says, \"you were a little weak, could you go through.\"\n",
              "\n",
              "**System and Technical Problems:**\n",
              "\n",
              "* There is some concern about the temperature of quad Bravo, and it is confirmed to be off and is turned on primary.\n",
              "*  The S band auxiliary tape switch to off and the S band auxiliary switch to TV is confirmed.\n",
              "*  The team reports having trouble hearing Houston, and they put in a couple more roll maneuvers so Houston can see it.\n",
              "*  There is a problem with a squeal on the line.\n",
              "* A state vector update is performed as the computer is theirs to go back to Block.\n",
              "*   A problem with the fuel cell pressurization.\n",
              "*  A low temperature on a quad Bravo RCS package. The crew confirms the RCS heater switch is now PRIMARY, but was off.\n",
              "*  There are several instances of issues with S-band downlink of the TV signal.\n",
              "*  The crew is asked to do a water dump to 5 percent.\n",
              "*  The crew reports that there is a squeal and the signal is breaking up.\n",
              "*  The crew are told about nonpropulsive vent on the booster and may see a cloud.\n",
              "*  A check of the secondary propellant fuel pressurization valves is requested.\n",
              "*  There are issues with the O2 flow indicator which is believed to be related to a malfunctioning transducer.\n",
              "*  There is a discussion about gimbal motors not shutting off.\n",
              "* A report that a midcourse 1 has been scrubbed, and the middle gimbal is getting quite big.\n",
              "*  The crew is asked to accept a NOUN 49 display and are later requested to recycle that one.\n",
              "*  There's an issue with the attitude not being at the substellar point.\n",
              "*  The crew has a problem with check star and uses 34.\n",
              "* There is a problem with the reticle not tangent to the horizon.\n",
              "*  A request for a check with another star since roll angle was larger than expected.\n",
              "\n",
              "**Humor and Camaraderie:**\n",
              "\n",
              "* There are humorous exchanges and jokes between the crew and ground control.\n",
              "* They often use a friendly, informal tone with each other.\n",
              "* They share moments of awe, wonder, and awe about the lunar mission, and also of home, and good food.\n",
              "*   They joke about the music and having been on a long ride.\n",
              "\n",
              "**Other Notes:**\n",
              "\n",
              "*  A non-propulsive vent is being conducted on the booster and the crew notes several small particles moving along with it.\n",
              "*   There is also a reference to Vega and Deneb GDC alignment.\n",
              "*   A mention of Goddard voice reading them loud and clear and a negative from Tananarive.\n",
              "*   A mention of ARIA aircraft for better communications during TLI.\n",
              "*   Multiple comms checks and requests.\n",
              "*  There is some static and background noise.\n",
              "*  The crew reports seeing a storm in the Athabasca area of Northern Canada, and that Europe and Northern Africa seem clear.\n",
              "*   They tell Bruce to not leave his console.\n",
              "*   They wish Dr. George Mueller a happy birthday.\n",
              "*   They get a reading on the SM quad Bravo package temperature.\n",
              "*   They check the position of the waste compartment valve.\n",
              "*   They express concern about having to perform P23 in manual and not AUTO.\n",
              "*   Mention is made of the time base fix indication on time.\n",
              "*  The crew asks to be told when to turn off a battery charger.\n",
              "*  They ask Houston to give them angles to the substellar point.\n",
              "*   They do a time base fix indication on time, and are told the booster is looking good.\n",
              "*    They are told they have less than a minute to ignition, and everything is GO.\n",
              "*   The crew confirms ignition, thrust is good, and that trajectory and guidance look good, the stage is GO.\n",
              "*   They are GO at 5 minutes.\n",
              "*  They are told they have cut off.\n",
              "*    There are many acknowledgements of readbacks, readouts, check stars, and angles.\n",
              "\n",
              "This summary outlines the major events and topics covered in the extensive Apollo 11 voice transcription, highlighting the technical aspects of the mission, communication challenges, and the human experiences of the astronauts. It's a mix of intense focus on technical details, the excitement of exploration, and the friendly camaraderie of the crew and Mission Control.\n"
            ],
            "text/plain": [
              "<IPython.core.display.Markdown object>"
            ]
          },
          "execution_count": 54,
          "metadata": {},
          "output_type": "execute_result"
        }
      ],
      "source": [
        "# Upload the file using the API\n",
        "file_upload = client.files.upload(path=text_path)\n",
        "\n",
        "response = client.models.generate_content(\n",
        "    model=MODEL_ID,\n",
        "    contents=[\n",
        "        types.Content(\n",
        "            role=\"user\",\n",
        "            parts=[\n",
        "                types.Part.from_uri(\n",
        "                    file_uri=file_upload.uri,\n",
        "                    mime_type=file_upload.mime_type),\n",
        "                ]),\n",
        "        \"Can you give me a summary of this information please?\",\n",
        "    ]\n",
        ")\n",
        "\n",
        "Markdown(response.text)"
      ]
    },
    {
      "cell_type": "markdown",
      "metadata": {
        "id": "QLV19RrMUlaw"
      },
      "source": [
        "### Upload a PDF file\n",
        "\n",
        "This PDF page is an article titled [Smoothly editing material properties of objects](https://research.google/blog/smoothly-editing-material-properties-of-objects-with-text-to-image-models-and-synthetic-data/) with text-to-image models and synthetic data available on the Google Research Blog."
      ]
    },
    {
      "cell_type": "code",
      "execution_count": null,
      "metadata": {
        "id": "b0BfhLDFWfCS",
        "outputId": "09354cd3-0354-4c74-d233-8abf110df6b4"
      },
      "outputs": [
        {
          "data": {
            "text/plain": [
              "6695391"
            ]
          },
          "execution_count": 55,
          "metadata": {},
          "output_type": "execute_result"
        }
      ],
      "source": [
        "# Prepare the file to be uploaded\n",
        "PDF = \"https://storage.googleapis.com/generativeai-downloads/data/Smoothly%20editing%20material%20properties%20of%20objects%20with%20text-to-image%20models%20and%20synthetic%20data.pdf\"  # @param {type: \"string\"}\n",
        "pdf_bytes = requests.get(PDF).content\n",
        "\n",
        "pdf_path = pathlib.Path('article.pdf')\n",
        "pdf_path.write_bytes(pdf_bytes)"
      ]
    },
    {
      "cell_type": "code",
      "execution_count": null,
      "metadata": {
        "id": "tH2h2WDVWptt",
        "outputId": "3f096ae9-0fa4-4858-875a-8d59200c7f69"
      },
      "outputs": [
        {
          "data": {
            "text/markdown": [
              "Certainly! Here's a summary of the provided document as a bulleted list:\n",
              "\n",
              "**Main Topic:**\n",
              "\n",
              "*   The article presents a new method for smoothly editing the material properties of objects in images using text-to-image models and synthetic data.\n",
              "\n",
              "**Key Points:**\n",
              "\n",
              "*   **Problem:** Existing tools for editing photos lack precise control over material properties (like shininess, color, transparency) while preserving photorealism. Traditional methods struggle to disentangle material and shape information.\n",
              "*   **Solution:** The researchers fine-tune a text-to-image model (Stable Diffusion 1.5) using a synthetic dataset of rendered 3D objects with varying material attributes. They introduce a parameter to control the edit strength of these properties.\n",
              "*   **Synthetic Data:** They use computer graphics to render 3D object models with varied material properties (e.g., roughness, metallic, albedo, transparency), camera angles, and lighting. The edit strength is varied as a scalar value for each material.\n",
              "*   **Method:** The model is fine-tuned on this synthetic dataset, learning to modify specific material attributes based on context image, instruction, and a scalar edit strength.\n",
              "*   **Results:** The model effectively changes the material appearance of objects while preserving shape, lighting, and other details. It works for real-world images after training on synthetic data.\n",
              "*   **User Study:** Their model was preferred over a baseline model (InstructPix2Pix) in a user study, scoring higher in both photorealism and overall preference.\n",
              "*   **Applications:**\n",
              "    *   Easily imagine how rooms would look painted different colors.\n",
              "    *   Designers can mock-up new product designs\n",
              "    *   The edits are consistent, allowing their use in downstream 3D applications like NeRF\n",
              "*   **NeRF Application:** Edits are used to generate new NeRFs, demonstrating 3D consistent edits of material properties.\n",
              "*   **Limitations:** The model can struggle to make hidden detail.\n",
              "*   **Future Work:**  Potential for controlling material edits is encouraged.\n",
              "*   **Acknowledgements:** Thanks to the team, especially Prafull Sharma, and other contributors.\n"
            ],
            "text/plain": [
              "<IPython.core.display.Markdown object>"
            ]
          },
          "execution_count": 56,
          "metadata": {},
          "output_type": "execute_result"
        }
      ],
      "source": [
        "# Upload the file using the API\n",
        "file_upload = client.files.upload(path=pdf_path)\n",
        "\n",
        "response = client.models.generate_content(\n",
        "    model=MODEL_ID,\n",
        "    contents=[\n",
        "        types.Content(\n",
        "            role=\"user\",\n",
        "            parts=[\n",
        "                types.Part.from_uri(\n",
        "                    file_uri=file_upload.uri,\n",
        "                    mime_type=file_upload.mime_type),\n",
        "                ]),\n",
        "        \"Can you summarize this file as a bulleted list?\",\n",
        "    ]\n",
        ")\n",
        "\n",
        "Markdown(response.text)"
      ]
    },
    {
      "cell_type": "markdown",
      "metadata": {
        "id": "9NWO1moe9fx-"
      },
      "source": [
        "### Upload an audio file\n",
        "\n",
        "In this case, you'll use a [sound recording](https://www.jfklibrary.org/asset-viewer/archives/jfkwha-006) of President John F. Kennedy’s 1961 State of the Union address."
      ]
    },
    {
      "cell_type": "code",
      "execution_count": null,
      "metadata": {
        "id": "lCSuGd9i9fEB",
        "outputId": "ffda0706-7e98-474e-ca58-da544185272e"
      },
      "outputs": [
        {
          "data": {
            "text/plain": [
              "41762063"
            ]
          },
          "execution_count": 57,
          "metadata": {},
          "output_type": "execute_result"
        }
      ],
      "source": [
        "# Prepare the file to be uploaded\n",
        "AUDIO = \"https://storage.googleapis.com/generativeai-downloads/data/State_of_the_Union_Address_30_January_1961.mp3\"  # @param {type: \"string\"}\n",
        "audio_bytes = requests.get(AUDIO).content\n",
        "\n",
        "audio_path = pathlib.Path('audio.mp3')\n",
        "audio_path.write_bytes(audio_bytes)"
      ]
    },
    {
      "cell_type": "code",
      "execution_count": null,
      "metadata": {
        "id": "0wjKO0eI9yps",
        "outputId": "3b6b52b3-1a6f-49a1-aaae-c98312724914"
      },
      "outputs": [
        {
          "data": {
            "text/markdown": [
              "Certainly! Here is a brief summary of the audio file:\n",
              "\n",
              "This is President John F. Kennedy's State of the Union address delivered on January 30, 1961, before a joint session of Congress. He emphasizes the importance of a mutual respect and collaboration between the President and the Congress. He stresses the need for frank and honest communication about the nation’s situation, which he characterizes as a time of \"national peril and national opportunity.\"\n",
              "\n",
              "Kennedy outlines the difficult economic situation, including rising unemployment, falling farm income, and low economic growth. He proposes a series of economic measures, such as improving unemployment benefits, increasing the minimum wage, and stimulating investment.\n",
              "\n",
              "He also addresses the serious balance of payment problems and assures the nation that the value of the dollar will be maintained. Kennedy also discusses domestic issues, like the need for affordable housing, better education, and expanded healthcare for the aged. \n",
              "\n",
              "Turning to global affairs, he notes tensions in Asia (particularly Laos), unrest in the Congo, the Communist presence in Cuba, and the weakened state of European alliances. He pledges to support the United Nations and work towards freedom and self-determination around the world. Kennedy highlights the competition between the United States and the Soviet Union, while seeking potential areas of cooperation, especially in the exploration of space and the control of arms.\n",
              "\n",
              "He ends by calling for a strengthened military, better diplomatic efforts, and a new approach to foreign aid. Kennedy implores public servants to give their all to the nation and for the country to work together to overcome the challenges that lay ahead. He emphasizes the need for action and courage rather than complacency.\n"
            ],
            "text/plain": [
              "<IPython.core.display.Markdown object>"
            ]
          },
          "execution_count": 58,
          "metadata": {},
          "output_type": "execute_result"
        }
      ],
      "source": [
        "# Upload the file using the API\n",
        "file_upload = client.files.upload(path=audio_path)\n",
        "\n",
        "response = client.models.generate_content(\n",
        "    model=MODEL_ID,\n",
        "    contents=[\n",
        "        types.Content(\n",
        "            role=\"user\",\n",
        "            parts=[\n",
        "                types.Part.from_uri(\n",
        "                    file_uri=file_upload.uri,\n",
        "                    mime_type=file_upload.mime_type),\n",
        "                ]),\n",
        "        \"Listen carefully to the following audio file. Provide a brief summary\",\n",
        "    ]\n",
        ")\n",
        "\n",
        "Markdown(response.text)"
      ]
    },
    {
      "cell_type": "markdown",
      "metadata": {
        "id": "KdUjkIQP-G_i"
      },
      "source": [
        "### Upload a video file\n",
        "\n",
        "In this case, you'll use a short clip of [Big Buck Bunny](https://peach.blender.org/about/)."
      ]
    },
    {
      "cell_type": "code",
      "execution_count": null,
      "metadata": {
        "id": "e9ohtLxU-SFE",
        "outputId": "2b8f8ae8-722a-4cad-e108-2137be9a2e5b"
      },
      "outputs": [
        {
          "name": "stdout",
          "output_type": "stream",
          "text": [
            "--2024-12-10 21:20:11--  https://download.blender.org/peach/bigbuckbunny_movies/BigBuckBunny_320x180.mp4\n",
            "Resolving download.blender.org (download.blender.org)... 104.22.64.163, 104.22.65.163, 172.67.14.163, ...\n",
            "Connecting to download.blender.org (download.blender.org)|104.22.64.163|:443... connected.\n",
            "HTTP request sent, awaiting response... 200 OK\n",
            "Length: 64657027 (62M) [video/mp4]\n",
            "Saving to: ‘BigBuckBunny_320x180.mp4’\n",
            "\n",
            "BigBuckBunny_320x18 100%[===================>]  61.66M  36.3MB/s    in 1.7s    \n",
            "\n",
            "2024-12-10 21:20:13 (36.3 MB/s) - ‘BigBuckBunny_320x180.mp4’ saved [64657027/64657027]\n",
            "\n"
          ]
        }
      ],
      "source": [
        "# Download the video file\n",
        "VIDEO_URL = \"https://download.blender.org/peach/bigbuckbunny_movies/BigBuckBunny_320x180.mp4\"  # @param {type: \"string\"}\n",
        "video_file_name = \"BigBuckBunny_320x180.mp4\"\n",
        "!wget -O {video_file_name} $VIDEO_URL"
      ]
    },
    {
      "cell_type": "markdown",
      "metadata": {
        "id": "iyFVXPspS5GF"
      },
      "source": [
        "Let's start by uploading the video file."
      ]
    },
    {
      "cell_type": "code",
      "execution_count": null,
      "metadata": {
        "id": "PY1WlxMk-0Uy",
        "outputId": "cfe4df21-b2b9-4829-bd15-6bee148f9ac9"
      },
      "outputs": [
        {
          "name": "stdout",
          "output_type": "stream",
          "text": [
            "Completed upload: https://generativelanguage.googleapis.com/v1beta/files/9a5nmiip2ipf\n"
          ]
        }
      ],
      "source": [
        "video_file = client.files.upload(path=video_file_name)\n",
        "print(f\"Completed upload: {video_file.uri}\")"
      ]
    },
    {
      "cell_type": "markdown",
      "metadata": {
        "id": "_yRG9BPXS65b"
      },
      "source": [
        "The state of the video is important. The video must finish processing, so do check the state. Once the state of the video is `ACTIVE`, you are able to pass it into `generate_content`."
      ]
    },
    {
      "cell_type": "code",
      "execution_count": null,
      "metadata": {
        "id": "eEk4P3fK_OcJ",
        "outputId": "8e04645b-7338-4940-b686-3dd855db67ad"
      },
      "outputs": [
        {
          "name": "stdout",
          "output_type": "stream",
          "text": [
            "Waiting for video to be processed.\n",
            "Waiting for video to be processed.\n",
            "Video processing complete: https://generativelanguage.googleapis.com/v1beta/files/9a5nmiip2ipf\n"
          ]
        }
      ],
      "source": [
        "import time\n",
        "\n",
        "# Prepare the file to be uploaded\n",
        "while video_file.state == \"PROCESSING\":\n",
        "    print('Waiting for video to be processed.')\n",
        "    time.sleep(10)\n",
        "    video_file = client.files.get(name=video_file.name)\n",
        "\n",
        "if video_file.state == \"FAILED\":\n",
        "  raise ValueError(video_file.state)\n",
        "print(f'Video processing complete: ' + video_file.uri)"
      ]
    },
    {
      "cell_type": "code",
      "execution_count": null,
      "metadata": {
        "id": "oMz9GIuvAiCO",
        "outputId": "5ee0c717-494d-4d06-b787-a1aeab2fdcd8"
      },
      "outputs": [
        {
          "name": "stdout",
          "output_type": "stream",
          "text": [
            "ACTIVE\n"
          ]
        }
      ],
      "source": [
        "print(video_file.state)"
      ]
    },
    {
      "cell_type": "code",
      "execution_count": null,
      "metadata": {
        "id": "cX82TyGL-e2O",
        "outputId": "97c04bde-9eae-4112-b1ba-c7179bce6dc9"
      },
      "outputs": [
        {
          "data": {
            "text/markdown": [
              "Certainly! Here's a description of the video you sent:\n",
              "\n",
              "**Overall:**\n",
              "\n",
              "The video is a computer-animated short film that showcases a whimsical tale featuring animals in a lush forest environment. It's part of the \"Peach Open Movie Project\" and features a mix of humorous moments and engaging visuals.\n",
              "\n",
              "**Visuals:**\n",
              "\n",
              "*   **Setting:** The video begins with a black screen that transitions into a beautiful, cartoonish world. There are grassy fields, a calm stream, and dense forests. The lighting is bright and sunny, creating a sense of warmth and tranquility.\n",
              "*   **Characters:** The main characters are a large, plump rabbit with a comical expression and several other forest creatures, including a trio of mischievous squirrels, a small mouse-like animal, and a purple bird. The characters have exaggerated features and expressive animations, adding to the comedic effect.\n",
              "*   **Animation Style:** The animation is smooth, detailed, and cartoony, giving the characters and environments a light-hearted feel.\n",
              "*   **Scene Transitions:** The camera moves smoothly between scenes, from wide landscape shots to close-ups of the characters. The transitions help to keep the story flowing naturally.\n",
              "\n",
              "**Key Moments and Action:**\n",
              "\n",
              "1.  **Introduction to the World:** The video opens with establishing shots of the idyllic environment, revealing a serene and peaceful world.\n",
              "2.  **The Rabbit's Emergence:** A plump rabbit emerges from its burrow. It’s slow-moving, expressive, and clearly the main character.\n",
              "3.  **Appreciation of Nature:** The rabbit smells flowers and interacts with a butterfly, showing a gentle and inquisitive nature.\n",
              "4.  **The Squirrel Gang:** The video introduces three mischievous-looking squirrels observing the rabbit from a tree. They seem to be up to no good.\n",
              "5.  **The Apple:** An apple falls from the tree and the rabbit becomes puzzled as it looks at the fruit.\n",
              "6.  **Trickery:** The mischievous squirrels engage in various antics to trick the rabbit, such as using a vine to create a trap. A purple bird is observing them.\n",
              "7.  **The Flying Squirrel:** A flying squirrel soars through the air, eventually landing on a tree with a leaf to protect itself from an apple.\n",
              "8.   **The Hunt:** The squirrel gang is observing the rabbit, and uses sharp branches as a trap. Eventually the rabbit falls for a trap the squirrels set by leaving food.\n",
              "9.  **Confrontation:** The flying squirrel confronts the big rabbit, and the scene ends with a funny chase between the two.\n",
              "10. **Credits:** As the credits roll, different characters appear on the screen, doing funny poses or engaging in goofy acts. The animation keeps the tone light and whimsical even during the end credits.\n",
              "\n",
              "**Sound and Music:**\n",
              "\n",
              "*   The video features an upbeat, lighthearted soundtrack that complements the visuals.\n",
              "*   There are various sound effects that emphasize movements and actions, enhancing the comedic tone.\n",
              "*   The musical style often feels like it belongs in a classic cartoon.\n",
              "\n",
              "**Overall Tone:**\n",
              "\n",
              "The short film has a comedic, playful tone. It’s charming and humorous, with expressive character animation, a light soundtrack, and a simple storyline that keeps you entertained. The video feels very reminiscent of classic, family-friendly cartoons with a modern computer-animated touch.\n",
              "\n",
              "If you'd like me to focus on a specific aspect, just let me know!"
            ],
            "text/plain": [
              "<IPython.core.display.Markdown object>"
            ]
          },
          "execution_count": 63,
          "metadata": {},
          "output_type": "execute_result"
        }
      ],
      "source": [
        "# Upload the file using the API\n",
        "response = client.models.generate_content(\n",
        "    model=MODEL_ID,\n",
        "    contents=[\n",
        "        types.Content(\n",
        "            role=\"user\",\n",
        "            parts=[\n",
        "                types.Part.from_uri(\n",
        "                    file_uri=video_file.uri,\n",
        "                    mime_type=video_file.mime_type),\n",
        "                ]),\n",
        "        \"Describe this video.\",\n",
        "    ]\n",
        ")\n",
        "\n",
        "Markdown(response.text)"
      ]
    },
    {
      "cell_type": "markdown",
      "metadata": {
        "id": "oTgeR3_9wN5J"
      },
      "source": [
        "## Use context caching\n",
        "\n",
        "[Context caching](https://ai.google.dev/gemini-api/docs/caching?lang=python) lets you to store frequently used input tokens in a dedicated cache and reference them for subsequent requests, eliminating the need to repeatedly pass the same set of tokens to a model.\n",
        "\n",
        "Context caching is only available for stable models with fixed versions (for example, `gemini-1.5-pro-002`). You must include the version postfix (for example, the `-002` in `gemini-1.5-pro-002`). It is not yet available of Gemini 2.0 because it is an experimental model. You can find more caching examples [here](https://github.com/google-gemini/cookbook/blob/main/quickstarts/Caching.ipynb)."
      ]
    },
    {
      "cell_type": "markdown",
      "metadata": {
        "id": "Tgl2gzmuwQXz"
      },
      "source": [
        "#### Create a cache"
      ]
    },
    {
      "cell_type": "code",
      "execution_count": null,
      "metadata": {
        "id": "b2Jb0gaiwOVi"
      },
      "outputs": [],
      "source": [
        "system_instruction = \"\"\"\n",
        "  You are an expert researcher who has years of experience in conducting systematic literature surveys and meta-analyses of different topics.\n",
        "  You pride yourself on incredible accuracy and attention to detail. You always stick to the facts in the sources provided, and never make up new facts.\n",
        "  Now look at the research paper below, and answer the following questions in 1-2 sentences.\n",
        "\"\"\"\n",
        "\n",
        "urls = [\n",
        "    'https://storage.googleapis.com/cloud-samples-data/generative-ai/pdf/2312.11805v3.pdf',\n",
        "    \"https://storage.googleapis.com/cloud-samples-data/generative-ai/pdf/2403.05530.pdf\",\n",
        "]"
      ]
    },
    {
      "cell_type": "code",
      "execution_count": null,
      "metadata": {
        "id": "ZrylX7r3w2bF"
      },
      "outputs": [],
      "source": [
        "import requests\n",
        "import mimetypes\n",
        "import pathlib\n",
        "\n",
        "uploads = []\n",
        "for url in urls:\n",
        "  mime_type,_ = mimetypes.guess_type(url)\n",
        "  file_bytes = requests.get(url).content\n",
        "  name = pathlib.Path(url).name\n",
        "  pathlib.Path(name).write_bytes(file_bytes)\n",
        "  uploads.append(client.files.upload(path=name, config=dict(mime_type=mime_type)))"
      ]
    },
    {
      "cell_type": "code",
      "execution_count": null,
      "metadata": {
        "id": "3_I-OC6xw6HF"
      },
      "outputs": [],
      "source": [
        "pdf_parts = [\n",
        "    types.Part.from_uri(f.uri, mime_type=f.mime_type)\n",
        "    for f in uploads\n",
        "]"
      ]
    },
    {
      "cell_type": "code",
      "execution_count": null,
      "metadata": {
        "id": "7MBsaipow7m5"
      },
      "outputs": [],
      "source": [
        "cached_content = client.caches.create(\n",
        "      model=\"gemini-1.5-pro-002\",\n",
        "      contents=[\n",
        "          \"Hey, can you summarize these docs?\",\n",
        "          types.Content(\n",
        "              role=\"user\",\n",
        "              parts=pdf_parts,\n",
        "          )],\n",
        "      config=types.CreateCachedContentConfig(\n",
        "          system_instruction=system_instruction,\n",
        "          ttl=\"3600s\",\n",
        "      ),\n",
        "  )"
      ]
    },
    {
      "cell_type": "markdown",
      "metadata": {
        "id": "KKgCRRXfwU_m"
      },
      "source": [
        "#### Use a cache"
      ]
    },
    {
      "cell_type": "code",
      "execution_count": null,
      "metadata": {
        "id": "-Qo7-sU2w92j",
        "outputId": "09f98ade-886d-4773-8568-b5d7b98f5665"
      },
      "outputs": [
        {
          "data": {
            "text/markdown": [
              "Both research papers describe the development of Google's Gemini family of large language models (LLMs); the first paper introduces Gemini 1.0, while the second details improvements and expansions incorporated in Gemini 1.5 Pro.  Both papers emphasize creating highly capable multimodal models, and improving performance and efficiency.\n"
            ],
            "text/plain": [
              "<IPython.core.display.Markdown object>"
            ]
          },
          "execution_count": 78,
          "metadata": {},
          "output_type": "execute_result"
        }
      ],
      "source": [
        "response = client.models.generate_content(\n",
        "    model=cached_content.model,\n",
        "    contents=\"What is the research goal shared by these research papers?\",\n",
        "    config=types.GenerateContentConfig(\n",
        "        cached_content=cached_content.name,\n",
        "    )\n",
        ")\n",
        "\n",
        "Markdown(response.text)"
      ]
    },
    {
      "cell_type": "code",
      "execution_count": null,
      "metadata": {
        "id": "gxJ_2Bel_Kqg",
        "outputId": "a1fb4dfc-9b7b-4702-cb32-5e880df80036"
      },
      "outputs": [
        {
          "data": {
            "text/plain": [
              "GenerateContentResponseUsageMetadata(cached_content_token_count=165268, candidates_token_count=63, prompt_token_count=165280, total_token_count=165343)"
            ]
          },
          "execution_count": 79,
          "metadata": {},
          "output_type": "execute_result"
        }
      ],
      "source": [
        "response.usage_metadata"
      ]
    },
    {
      "cell_type": "markdown",
      "metadata": {
        "id": "4QSOsWurx4CG"
      },
      "source": [
        "#### Delete a cache"
      ]
    },
    {
      "cell_type": "code",
      "execution_count": null,
      "metadata": {
        "id": "zSZeG60Dx4V-",
        "outputId": "c2827c18-0e65-4f0a-f289-fff639630ab0"
      },
      "outputs": [
        {
          "data": {
            "text/plain": [
              "DeleteCachedContentResponse()"
            ]
          },
          "execution_count": 80,
          "metadata": {},
          "output_type": "execute_result"
        }
      ],
      "source": [
        "client.caches.delete(name=cached_content.name)"
      ]
    },
    {
      "cell_type": "markdown",
      "metadata": {
        "id": "sXNCRn8Wx71d"
      },
      "source": [
        "## Get text embeddings\n",
        "\n",
        "You can get text embeddings for a snippet of text by using `embed_content` method. All models produce an output with 768 dimensions by default. However, some models give users the option to choose an output dimensionality between 1 and 768. See the [embeddings guide](https://ai.google.dev/gemini-api/docs/embeddings) for more details."
      ]
    },
    {
      "cell_type": "code",
      "execution_count": null,
      "metadata": {
        "id": "hpJIA5zmx8Vy"
      },
      "outputs": [],
      "source": [
        "TEXT_EMBEDDING_MODEL_ID = \"text-embedding-004\" # @param {type: \"string\"}"
      ]
    },
    {
      "cell_type": "code",
      "execution_count": null,
      "metadata": {
        "id": "0afi69R9x_bh",
        "outputId": "4d8b3624-0bf5-4e9e-a1cb-b39621afa80c"
      },
      "outputs": [
        {
          "name": "stdout",
          "output_type": "stream",
          "text": [
            "[ContentEmbedding(values=[0.03048978, -0.012495727, 0.0036343397, -0.009300941, -0.004146045, 0.04262975, 0.009245825, -0.004227247, -0.00036513316, 0.03559372, 0.011171163, 0.0416978, 0.006913549, 0.02601063, -0.034738727, 0.019730072, -0.06816326, -0.014887217, -0.03396799, 0.015419105, 0.0029631723, -0.027646651, -0.035533506, 0.029399272, 0.065919116, 0.005850861, 0.04266477, -0.041597437, 0.013176256, -0.05582734, 0.022365186, 0.023196233, -0.017751269, 0.04947194, 0.02752518, -0.04281031, -0.007558504, -0.06265736, 0.054414522, -0.018569116, -0.0988031, 0.00025138413, 0.0035139103, -0.023123577, -0.06348879, -0.029137025, -0.018654658, 0.07175412, -0.033999953, -0.01807951, 0.04604118, 0.049589697, -0.06956847, -0.0051969253, 0.009695711, -0.045810144, -0.018896418, -0.07737631, -0.01041952, 0.062280674, -0.010986931, -0.023872962, 0.00870658, 0.034515746, -0.06089848, 0.028827013, -0.004755466, -0.06867282, -0.0062026544, -0.017381724, 0.07953526, 0.057135686, 0.018383984, 0.0100823, -0.0029891296, -0.021275308, 0.022755805, -0.017006999, -0.020811522, 0.09300036, -0.01941426, 0.065751895, 0.017448412, 0.08179778, 0.002786673, 0.0015768415, 0.010581798, -0.04864137, -0.020241596, 0.02260432, 0.01999292, 0.02499106, -0.022158032, -0.03928841, 0.05202323, -0.038469337, -0.1012468, -0.009663637, 0.036835764, -0.02848351, -0.0033310375, 0.048666913, -0.029979944, -0.06265189, 0.0025023087, 0.007323882, 0.013935385, -0.011661977, -0.0042730565, -0.0067090304, 0.019851975, 0.010199609, -0.0107513955, 0.04005911, -0.06906693, -0.008598614, 0.0028248914, 0.01806111, 0.03726255, 0.05314424, 0.0151942475, -0.02230562, 0.022409866, 0.043150704, 0.024944816, 0.024130413, 0.055568248, -0.02302024], statistics=None), ContentEmbedding(values=[0.083519235, 0.014616887, 0.04478677, -0.014207007, 0.0072273323, 0.035061345, -0.0049085515, 0.00072984485, 0.039991457, 0.06897463, -0.020866781, 0.065098576, 0.005695206, 0.003949796, -0.0603642, -0.01029101, -0.07561914, -0.06786536, -0.034694176, -0.031667836, 0.01088079, -0.005604836, 0.002934547, 0.018794449, 0.06645354, -0.01216421, 0.0010725121, -0.04105824, -0.0111838365, -0.087663606, 0.026508441, 0.046918765, -0.018488564, 0.062082656, 0.05700973, -0.012546892, -0.0002974026, -0.03061329, 0.0033685665, -0.065139204, -0.06380131, -0.032491807, -0.008026657, 0.01997419, -0.036199007, -0.031758834, -0.035953015, 0.06599486, -0.025288241, -0.009991743, 0.08587603, 0.04725974, -0.02490141, 0.010657297, 0.014996395, -0.064874634, -0.033635624, -0.080795266, 0.04739917, 0.03165234, 0.011822463, -0.021200955, -0.02494472, 0.014771655, -0.052016933, 0.01770106, -0.0055952063, -0.045756552, -0.004199561, -0.02335056, 0.04495296, 0.064786136, -0.008850804, 0.0050140847, -0.03553047, -0.020805774, -0.005105497, 0.0049114497, -0.04130421, 0.09046983, 0.013247231, 0.06047079, -0.020852646, 0.08180324, -0.012436566, -0.024980357, 0.021622408, -0.0782515, -0.047971718, 0.008346423, 0.057791572, 0.04479579, -0.0016176645, -0.0335039, 0.017017905, -0.023998508, -0.11998227, 0.018763568, -0.042478975, -0.04160994, -0.009587024, 0.02957935, -0.049055308, -0.051100012, 0.0004336382, -0.026020356, -0.033070166, -0.005045125, 0.030083118, -0.027309192, 0.040956147, -0.018033395, 0.031652447, 0.06045784, -0.057729397, 0.00056245126, 0.010792897, 0.0070391744, 0.0022201382, 0.06285266, -0.015210764, -0.0027847707, 0.018631108, 0.051676523, -0.0015209165, 0.03962049, 0.046468854, -0.034577064], statistics=None), ContentEmbedding(values=[0.08571456, 0.03546953, 0.04804211, 0.017376082, -0.00047165598, 0.017503848, 0.032960214, 0.017812848, 0.010785742, 0.06938578, -0.0049905675, 0.046129197, 0.024187773, -0.027612785, -0.056363862, 0.008128365, -0.05492017, -0.054629747, -0.06409466, -0.00589085, 0.0056176404, -0.00036638964, -0.022345573, 0.055440195, 0.068332255, 0.023159573, 0.013570999, -0.06591527, -0.0069829426, -0.07369144, 0.00027190862, -0.036110956, -0.049951993, 0.072822765, 0.043067973, 0.016813485, -0.053934474, -0.052705985, 0.013324221, -0.049093254, -0.06228558, -0.037268773, -0.02340001, -0.018288596, -0.06876072, -0.05064396, 0.02045769, 0.078985676, -0.021825831, -0.0146106705, 0.055000532, 0.044049915, -0.05091522, 0.019605588, 0.034599703, -0.07838337, -0.053571265, -0.02827624, -0.003195661, 0.019545991, 0.010453397, 0.0007269408, -0.020238554, 0.015320817, -0.019742332, 0.035898305, -0.014978842, -0.047006063, -0.02189066, 0.054785334, 0.08006535, 0.020371832, 0.016085217, -0.05157522, -0.029142963, -0.02770745, 0.01509819, -0.011240081, -0.028820274, 0.09710066, 0.044923723, 0.08782591, -0.038848694, 0.028397659, -0.013083033, -0.009417484, 0.033933517, -0.06067121, -0.06276771, 0.0039001787, 0.032183398, 0.05896386, 0.004101614, -0.0441877, 0.039905917, -0.04527101, -0.101569146, 0.0024960071, -0.029360754, -0.052105002, 0.015019543, 0.03466809, -0.048053253, -0.052977167, -0.0019203424, -0.03632043, -0.041548066, -0.018945765, -0.016967608, -0.004475595, 0.062623695, 0.054471333, 0.013203213, 0.06161909, -0.040599074, -0.022429345, -0.007866329, -0.0058557815, 0.01888927, 0.07748621, -0.060184676, -0.011720829, 0.008912105, 0.03434009, 0.014556326, 0.018415269, 0.08929943, -0.03687946], statistics=None)]\n"
          ]
        }
      ],
      "source": [
        "response = client.models.embed_content(\n",
        "    model=TEXT_EMBEDDING_MODEL_ID,\n",
        "    contents=[\n",
        "        \"How do I get a driver's license/learner's permit?\",\n",
        "        \"How do I renew my driver's license?\",\n",
        "        \"How do I change my address on my driver's license?\"\n",
        "        ],\n",
        "    config=types.EmbedContentConfig(output_dimensionality=128)\n",
        ")\n",
        "\n",
        "print(response.embeddings)"
      ]
    },
    {
      "cell_type": "markdown",
      "metadata": {
        "id": "Tje8pMbd5z7j"
      },
      "source": [
        "You will get a set of three embeddings, one for each piece of text you passed in:"
      ]
    },
    {
      "cell_type": "code",
      "execution_count": null,
      "metadata": {
        "id": "zNeuBlNt4CRk",
        "outputId": "99dc2be1-a049-4372-df5b-5ce66fc87baf"
      },
      "outputs": [
        {
          "data": {
            "text/plain": [
              "3"
            ]
          },
          "execution_count": 83,
          "metadata": {},
          "output_type": "execute_result"
        }
      ],
      "source": [
        "len(response.embeddings)"
      ]
    },
    {
      "cell_type": "markdown",
      "metadata": {
        "id": "hG5UPmq3543E"
      },
      "source": [
        "You can also see the length of each embedding is 128, as per the `output_dimensionality` you specified."
      ]
    },
    {
      "cell_type": "code",
      "execution_count": null,
      "metadata": {
        "id": "s4oAtC8a4GYH",
        "outputId": "20131dc7-a70b-40e0-97c3-0ad3cccbc315"
      },
      "outputs": [
        {
          "data": {
            "text/plain": [
              "128"
            ]
          },
          "execution_count": 84,
          "metadata": {},
          "output_type": "execute_result"
        }
      ],
      "source": [
        "len(response.embeddings[0].values)"
      ]
    },
    {
      "cell_type": "markdown",
      "metadata": {
        "id": "_SOkIVJIyF1W"
      },
      "source": [
        "## Next Steps\n",
        "\n",
        "### Useful API references:\n",
        "\n",
        "Check out the [Google GenAI SDK](https://github.com/googleapis/python-genai) for more details on the new SDK.\n",
        "\n",
        "### Related examples\n",
        "\n",
        "For more detailed examples using Gemini 2.0, check the [Gemini 2.0 folder of the cookbook](https://github.com/google-gemini/cookbook/blob/main/gemini-2/). You'll learn how to use the [Live API](live_api_starter.ipynb), juggle with [multiple tools](./plotting_and_mapping.ipynb) or use Gemini 2.0 [spatial understanding](./spatial_understanding.ipynb) abilities.\n",
        "\n",
        "Also check the [experimental Gemini 2.0 Flash Thinking](./thinking.ipynb) model that explicitly showcases its thoughts and can manage more complex reasonings."
      ]
    }
  ],
  "metadata": {
    "colab": {
      "name": "get_started.ipynb",
      "provenance": []
    },
    "kernelspec": {
      "display_name": "Python 3",
      "name": "python3"
    }
  },
  "nbformat": 4,
  "nbformat_minor": 0
}